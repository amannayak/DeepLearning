{
  "nbformat": 4,
  "nbformat_minor": 0,
  "metadata": {
    "kernelspec": {
      "display_name": "Python 3",
      "language": "python",
      "name": "python3"
    },
    "language_info": {
      "codemirror_mode": {
        "name": "ipython",
        "version": 3
      },
      "file_extension": ".py",
      "mimetype": "text/x-python",
      "name": "python",
      "nbconvert_exporter": "python",
      "pygments_lexer": "ipython3",
      "version": "3.7.1"
    },
    "colab": {
      "name": "DNN_Lab.ipynb",
      "provenance": [],
      "machine_shape": "hm"
    },
    "accelerator": "GPU"
  },
  "cells": [
    {
      "cell_type": "markdown",
      "metadata": {
        "id": "r8CrCyT6tAW9",
        "colab_type": "text"
      },
      "source": [
        "# Deep Neural Networks Laboration\n",
        "\n",
        "Data used in this laboration are from the Kitsune Network Attack Dataset, https://archive.ics.uci.edu/ml/datasets/Kitsune+Network+Attack+Dataset . We will focus on the 'Mirai' part of the dataset. Your task is to make a DNN that can classify if each attack is benign or malicious. The dataset has 116 covariates, but to make it a bit more difficult we will remove the first 24 covariates.\n",
        "\n",
        "You need to answer all questions in this notebook."
      ]
    },
    {
      "cell_type": "markdown",
      "metadata": {
        "id": "FELKNx_ftAW_",
        "colab_type": "text"
      },
      "source": [
        "# Part 1: Get the data\n",
        "\n",
        "Use `wget` in the terminal of your cloud machine (in the same directory as where you have saved this notebook) to download the data, i.e.\n",
        "\n",
        "wget https://archive.ics.uci.edu/ml/machine-learning-databases/00516/mirai/Mirai_dataset.csv.gz\n",
        "\n",
        "wget https://archive.ics.uci.edu/ml/machine-learning-databases/00516/mirai/Mirai_labels.csv.gz\n",
        "\n",
        "Then unpack the files using `gunzip` in the terminal, i.e.\n",
        "\n",
        "gunzip Mirai_dataset.csv.gz\n",
        "\n",
        "gunzip Mirai_labels.csv.gz"
      ]
    },
    {
      "cell_type": "code",
      "metadata": {
        "id": "uqm5JL_Nacfc",
        "colab_type": "code",
        "colab": {}
      },
      "source": [
        "#latest change 1.05 Tuesday\n",
        "\n",
        "!pip install -U -q PyDrive\n",
        "\n",
        "from pydrive.auth import GoogleAuth\n",
        "from pydrive.drive import GoogleDrive\n",
        "from google.colab import auth\n",
        "from oauth2client.client import GoogleCredentials\n",
        "\n",
        "# 1. Authenticate and create the PyDrive client.\n",
        "auth.authenticate_user()\n",
        "gauth = GoogleAuth()\n",
        "gauth.credentials = GoogleCredentials.get_application_default()\n",
        "drive = GoogleDrive(gauth)\n",
        "\n",
        "# 2. Load a file by ID and create local file.\n",
        "downloaded = drive.CreateFile({'id':'1896GbKGCJFbqTBJJN1g03s7ZS2Q5DPMf'}) # replace fileid with Id of file you want to access\n",
        "downloaded.GetContentFile('Mirai_dataset.csv') # now you can use export.csv "
      ],
      "execution_count": 0,
      "outputs": []
    },
    {
      "cell_type": "code",
      "metadata": {
        "id": "bfR_pIMNpXwy",
        "colab_type": "code",
        "colab": {}
      },
      "source": [
        "# 2..b. Load a file by ID and create local file.\n",
        "downloaded = drive.CreateFile({'id':'1zqwLJDjh6JX4x-lGKGSVEFcN5Y4wIHLj'}) # replace fileid with Id of file you want to access\n",
        "downloaded.GetContentFile('mirai_labels.csv') # now you can use export.csv \n",
        "\n"
      ],
      "execution_count": 0,
      "outputs": []
    },
    {
      "cell_type": "code",
      "metadata": {
        "id": "cjilUxmybADI",
        "colab_type": "code",
        "colab": {}
      },
      "source": [
        "#testimp = np.genfromtxt('Mirai_dataset.csv')"
      ],
      "execution_count": 0,
      "outputs": []
    },
    {
      "cell_type": "markdown",
      "metadata": {
        "id": "yrKo3VzFtAXA",
        "colab_type": "text"
      },
      "source": [
        "# Part 2: Get a graphics card\n",
        "\n",
        "Lets make sure that our script can see the graphics card that will be used. The graphics cards will perform all the time consuming calculations in every training iteration."
      ]
    },
    {
      "cell_type": "code",
      "metadata": {
        "id": "QefNazbYtAXD",
        "colab_type": "code",
        "colab": {
          "base_uri": "https://localhost:8080/",
          "height": 34
        },
        "outputId": "02be1802-39c9-40dc-9579-94c01f24fec6"
      },
      "source": [
        "import os\n",
        "import warnings\n",
        "\n",
        "# Ignore FutureWarning from numpy\n",
        "warnings.simplefilter(action='ignore', category=FutureWarning)\n",
        "\n",
        "import keras.backend as K\n",
        "import tensorflow as tf\n",
        "\n",
        "os.environ[\"CUDA_DEVICE_ORDER\"]=\"PCI_BUS_ID\";\n",
        " \n",
        "# The GPU id to use, usually either \"0\" or \"1\";\n",
        "os.environ[\"CUDA_VISIBLE_DEVICES\"]=\"0\";\n",
        "\n",
        "# Allow growth of GPU memory, otherwise it will always look like all the memory is being used\n",
        "physical_devices = tf.config.experimental.list_physical_devices('GPU')\n",
        "\n",
        "#print(physical_devices)\n",
        "\n",
        "tf.config.experimental.set_memory_growth(physical_devices[0], True) "
      ],
      "execution_count": 4,
      "outputs": [
        {
          "output_type": "stream",
          "text": [
            "Using TensorFlow backend.\n"
          ],
          "name": "stderr"
        }
      ]
    },
    {
      "cell_type": "markdown",
      "metadata": {
        "id": "7KmSFXs5tAXI",
        "colab_type": "text"
      },
      "source": [
        "# Part 3: Hardware\n",
        "\n",
        "In deep learning, the computer hardware is very important. You should always know what kind of hardware you are working on.\n",
        "\n",
        "Question 1: What graphics card is available in the cloud machine? Run 'nvidia-smi' in the terminal. \n",
        "\n",
        "Question 2: Google the name of the graphics card, how many CUDA cores does it have?\n",
        "\n",
        "Question 3: How much memory does the graphics card have?\n",
        "\n",
        "Question 4: What is stored in the GPU memory while training a DNN ?\n",
        "\n",
        "Question 5: What CPU is available in the cloud machine? How many cores does it have? Run 'lscpu' in the terminal.\n",
        "\n",
        "Question 6: How much CPU memory (RAM) is available in the cloud machine? Run 'free -g' in the terminal."
      ]
    },
    {
      "cell_type": "markdown",
      "metadata": {
        "id": "90udr2RRtAXJ",
        "colab_type": "text"
      },
      "source": [
        "# Part 4: Load the data\n",
        "\n",
        "Load the dataset from the csv files, it will take some time since it is almost 1.4 GB. \n",
        "\n",
        "We will use the function `genfromtxt` to load the data.\n",
        "\n",
        "https://docs.scipy.org/doc/numpy/reference/generated/numpy.genfromtxt.html\n",
        "\n",
        "Load the data from csv files the first time, then save the data as numpy files for faster loading the next time.\n",
        "\n",
        "\n"
      ]
    },
    {
      "cell_type": "code",
      "metadata": {
        "id": "wjbtfBZHtAXK",
        "colab_type": "code",
        "colab": {}
      },
      "source": [
        "from numpy import genfromtxt\n",
        "import numpy as np\n",
        "\n",
        "# Load data from file\n",
        "# X = covariates, Y = labels\n",
        "X = np.genfromtxt(fname = \"Mirai_dataset.csv\" , delimiter = \",\")\n",
        "Y = np.genfromtxt(\"mirai_labels.csv\", delimiter = \",\")\n",
        "\n",
        "# Save data as numpy arrays, for faster loading in future calls to this cell\n",
        "np.save('Mirai_data.npy', X)\n",
        "np.save('mirai_labels.npy', Y)\n",
        "\n",
        "# Load data from numpy arrays, for faster loading\n",
        "X = np.load('Mirai_data.npy')\n",
        "Y = np.load('mirai_labels.npy')\n",
        "   "
      ],
      "execution_count": 0,
      "outputs": []
    },
    {
      "cell_type": "code",
      "metadata": {
        "id": "6sV_2D9iJX0D",
        "colab_type": "code",
        "colab": {}
      },
      "source": [
        "# Load data from numpy arrays, for faster loading\n",
        "X = np.load('Mirai_data.npy')\n",
        "Y = np.load('mirai_labels.npy')"
      ],
      "execution_count": 0,
      "outputs": []
    },
    {
      "cell_type": "code",
      "metadata": {
        "id": "jPAfRm1XrudE",
        "colab_type": "code",
        "colab": {
          "base_uri": "https://localhost:8080/",
          "height": 34
        },
        "outputId": "5ec995cc-fdad-4cdf-d6b8-00d546ab2a34"
      },
      "source": [
        "X.shape"
      ],
      "execution_count": 27,
      "outputs": [
        {
          "output_type": "execute_result",
          "data": {
            "text/plain": [
              "(764137, 116)"
            ]
          },
          "metadata": {
            "tags": []
          },
          "execution_count": 27
        }
      ]
    },
    {
      "cell_type": "code",
      "metadata": {
        "id": "oArDpufgmKO3",
        "colab_type": "code",
        "colab": {
          "base_uri": "https://localhost:8080/",
          "height": 51
        },
        "outputId": "635c89a3-1a29-4f64-e2f9-a7872452bc94"
      },
      "source": [
        "# Remove the first 24 covariates\n",
        "\n",
        "X = X[ : ,24:]\n",
        "\n",
        "print('The covariates have size {}.'.format(X.shape))\n",
        "print('The labels have size {}.'.format(Y.shape))\n",
        "\n",
        "# Print the number of examples of each class\n",
        "\n",
        "#print(X[1:10,])"
      ],
      "execution_count": 28,
      "outputs": [
        {
          "output_type": "stream",
          "text": [
            "The covariates have size (764137, 92).\n",
            "The labels have size (764137,).\n"
          ],
          "name": "stdout"
        }
      ]
    },
    {
      "cell_type": "markdown",
      "metadata": {
        "id": "LKLDBuuDtAXR",
        "colab_type": "text"
      },
      "source": [
        "# Part 5: How good is a naive classifier?\n",
        "\n",
        "Question 7: Given the distribution of examples, how high classification performance can a naive classifier obtain? The naive classifier will assume that all examples belong to one class. Note: you do not need to make a naive classifier, this is a theoretical question, just to understand how good performance we can obtain by random chance."
      ]
    },
    {
      "cell_type": "code",
      "metadata": {
        "id": "sIphJiGMsfeA",
        "colab_type": "code",
        "colab": {}
      },
      "source": [
        "#X[X == \"nan\"]"
      ],
      "execution_count": 0,
      "outputs": []
    },
    {
      "cell_type": "code",
      "metadata": {
        "id": "Jj7vzHtwtAXS",
        "colab_type": "code",
        "colab": {
          "base_uri": "https://localhost:8080/",
          "height": 51
        },
        "outputId": "01b15812-7015-4ebc-f421-b25cd19927fc"
      },
      "source": [
        "# It is common to have NaNs in the data, lets check for it. Hint: np.isnan()\n",
        "nanCheckY = np.isnan(Y)\n",
        "nanCheckX = np.isnan(X)\n",
        "\n",
        "# Print the number of NaNs (not a number) in the labels\n",
        "print(f\"Total nan in labels {len(nanCheckY[nanCheckY == True])}\")\n",
        "\n",
        "# Print the number of NaNs in the covariates\n",
        "print(f\"Total nan in covariates {len(nanCheckX[nanCheckX == True])}\")\n"
      ],
      "execution_count": 30,
      "outputs": [
        {
          "output_type": "stream",
          "text": [
            "Total nan in labels 0\n",
            "Total nan in covariates 0\n"
          ],
          "name": "stdout"
        }
      ]
    },
    {
      "cell_type": "markdown",
      "metadata": {
        "id": "zO01YS4ktAXX",
        "colab_type": "text"
      },
      "source": [
        "# Part 6: Preprocessing\n",
        "\n",
        "Lets do some simple preprocessing"
      ]
    },
    {
      "cell_type": "code",
      "metadata": {
        "id": "o4bGI6uYtAXY",
        "colab_type": "code",
        "colab": {}
      },
      "source": [
        "# Convert covariates to floats\n",
        "X.astype(float)\n",
        "\n",
        "# Convert labels to ints\n",
        "Y.astype(int)\n",
        "\n",
        "# Remove mean of each covariate (column)\n",
        "XMean = np.mean(X , axis = 0)\n",
        "\n"
      ],
      "execution_count": 0,
      "outputs": []
    },
    {
      "cell_type": "code",
      "metadata": {
        "id": "s5NIaFG0lKN-",
        "colab_type": "code",
        "colab": {
          "base_uri": "https://localhost:8080/",
          "height": 34
        },
        "outputId": "b5763a30-62df-4992-95eb-e6c874108175"
      },
      "source": [
        "XMean[0]"
      ],
      "execution_count": 32,
      "outputs": [
        {
          "output_type": "execute_result",
          "data": {
            "text/plain": [
              "143.84970417901397"
            ]
          },
          "metadata": {
            "tags": []
          },
          "execution_count": 32
        }
      ]
    },
    {
      "cell_type": "code",
      "metadata": {
        "id": "66UndvpYeb4j",
        "colab_type": "code",
        "colab": {}
      },
      "source": [
        "for i in range(0, len(XMean)):\n",
        "  X[ : , i] = X[ : , i] - XMean[i]\n",
        "  \n",
        "# Divide each covariate (column) by its standard deviation\n",
        "\n",
        "Xstd = np.std(X , axis = 0)\n",
        "\n",
        "for i in range(0, len(Xstd)):\n",
        "  X[ : , i] = X[ : , i] / Xstd[i]\n",
        "\n",
        "# Check that mean is 0 and standard deviation is 1 for all covariates, by printing mean and std\n"
      ],
      "execution_count": 0,
      "outputs": []
    },
    {
      "cell_type": "code",
      "metadata": {
        "id": "tzXr9ORJecog",
        "colab_type": "code",
        "colab": {}
      },
      "source": [
        "newMean = np.abs(np.around(np.mean(X , axis=0) , decimals= 4))\n",
        "newSD = np.around(np.std(X , axis= 0 ) , decimals= 1)"
      ],
      "execution_count": 0,
      "outputs": []
    },
    {
      "cell_type": "code",
      "metadata": {
        "id": "33FyVokHXOQ6",
        "colab_type": "code",
        "colab": {
          "base_uri": "https://localhost:8080/",
          "height": 119
        },
        "outputId": "f8904986-5e10-4efa-d3d0-cbb7c410467f"
      },
      "source": [
        "newMean"
      ],
      "execution_count": 35,
      "outputs": [
        {
          "output_type": "execute_result",
          "data": {
            "text/plain": [
              "array([0., 0., 0., 0., 0., 0., 0., 0., 0., 0., 0., 0., 0., 0., 0., 0., 0.,\n",
              "       0., 0., 0., 0., 0., 0., 0., 0., 0., 0., 0., 0., 0., 0., 0., 0., 0.,\n",
              "       0., 0., 0., 0., 0., 0., 0., 0., 0., 0., 0., 0., 0., 0., 0., 0., 0.,\n",
              "       0., 0., 0., 0., 0., 0., 0., 0., 0., 0., 0., 0., 0., 0., 0., 0., 0.,\n",
              "       0., 0., 0., 0., 0., 0., 0., 0., 0., 0., 0., 0., 0., 0., 0., 0., 0.,\n",
              "       0., 0., 0., 0., 0., 0., 0.])"
            ]
          },
          "metadata": {
            "tags": []
          },
          "execution_count": 35
        }
      ]
    },
    {
      "cell_type": "code",
      "metadata": {
        "id": "qb1AIkDTnarH",
        "colab_type": "code",
        "colab": {
          "base_uri": "https://localhost:8080/",
          "height": 119
        },
        "outputId": "2e4e847e-e15d-45f8-d98b-dbfcea4f7742"
      },
      "source": [
        "newSD"
      ],
      "execution_count": 36,
      "outputs": [
        {
          "output_type": "execute_result",
          "data": {
            "text/plain": [
              "array([1., 1., 1., 1., 1., 1., 1., 1., 1., 1., 1., 1., 1., 1., 1., 1., 1.,\n",
              "       1., 1., 1., 1., 1., 1., 1., 1., 1., 1., 1., 1., 1., 1., 1., 1., 1.,\n",
              "       1., 1., 1., 1., 1., 1., 1., 1., 1., 1., 1., 1., 1., 1., 1., 1., 1.,\n",
              "       1., 1., 1., 1., 1., 1., 1., 1., 1., 1., 1., 1., 1., 1., 1., 1., 1.,\n",
              "       1., 1., 1., 1., 1., 1., 1., 1., 1., 1., 1., 1., 1., 1., 1., 1., 1.,\n",
              "       1., 1., 1., 1., 1., 1., 1.])"
            ]
          },
          "metadata": {
            "tags": []
          },
          "execution_count": 36
        }
      ]
    },
    {
      "cell_type": "code",
      "metadata": {
        "id": "Q6YxRFoYUevn",
        "colab_type": "code",
        "colab": {
          "base_uri": "https://localhost:8080/",
          "height": 34
        },
        "outputId": "a4833e95-b535-4208-813f-dc1b0769c44b"
      },
      "source": [
        "X.shape"
      ],
      "execution_count": 37,
      "outputs": [
        {
          "output_type": "execute_result",
          "data": {
            "text/plain": [
              "(764137, 92)"
            ]
          },
          "metadata": {
            "tags": []
          },
          "execution_count": 37
        }
      ]
    },
    {
      "cell_type": "markdown",
      "metadata": {
        "id": "G6su6lxYtAXd",
        "colab_type": "text"
      },
      "source": [
        "# Part 7: Split the dataset\n",
        "\n",
        "Use the first 70% of the dataset for training, leave the other 30% for validation and test, call the variables\n",
        "\n",
        "Xtrain (70%)\n",
        "\n",
        "Xtemp  (30%)\n",
        "\n",
        "Ytrain (70%)\n",
        "\n",
        "Ytemp  (30%)\n"
      ]
    },
    {
      "cell_type": "code",
      "metadata": {
        "id": "fTFc7Q4BoP5_",
        "colab_type": "code",
        "colab": {}
      },
      "source": [
        "nTrain = round(X.shape[0] * .7)"
      ],
      "execution_count": 0,
      "outputs": []
    },
    {
      "cell_type": "code",
      "metadata": {
        "id": "W7botlI8odeJ",
        "colab_type": "code",
        "colab": {
          "base_uri": "https://localhost:8080/",
          "height": 34
        },
        "outputId": "90a18b42-6e99-4b8e-d27b-20f025eb09d7"
      },
      "source": [
        "X.shape"
      ],
      "execution_count": 39,
      "outputs": [
        {
          "output_type": "execute_result",
          "data": {
            "text/plain": [
              "(764137, 92)"
            ]
          },
          "metadata": {
            "tags": []
          },
          "execution_count": 39
        }
      ]
    },
    {
      "cell_type": "code",
      "metadata": {
        "id": "eZnf-1jNtAXe",
        "colab_type": "code",
        "colab": {
          "base_uri": "https://localhost:8080/",
          "height": 85
        },
        "outputId": "626308d3-ff19-4a82-f276-80b93327e653"
      },
      "source": [
        "# Your code\n",
        "Xtrain = X[0:nTrain , :]\n",
        "Xtemp = X[(nTrain+1) : , :]\n",
        "\n",
        "Ytrain = Y[0:nTrain]\n",
        "Ytemp = Y[(nTrain+1) :]\n",
        "\n",
        "print('Xtrain has size {}.'.format(Xtrain.shape))\n",
        "print('Ytrain has size {}.'.format(Ytrain.shape))\n",
        "\n",
        "print('Xtemp has size {}.'.format(Xtemp.shape))\n",
        "print('Ytemp has size {}.'.format(Ytemp.shape))\n",
        "\n",
        "\n"
      ],
      "execution_count": 40,
      "outputs": [
        {
          "output_type": "stream",
          "text": [
            "Xtrain has size (534896, 92).\n",
            "Ytrain has size (534896,).\n",
            "Xtemp has size (229240, 92).\n",
            "Ytemp has size (229240,).\n"
          ],
          "name": "stdout"
        }
      ]
    },
    {
      "cell_type": "code",
      "metadata": {
        "id": "xY2AEethqCQM",
        "colab_type": "code",
        "colab": {
          "base_uri": "https://localhost:8080/",
          "height": 1000
        },
        "outputId": "b9c75082-f4d5-4c8b-b76b-cbdfe1be2ebb"
      },
      "source": [
        "# Print the number of examples of each class, for the training data and the remaining 30%\n",
        "print(Xtrain[0:1 , :])\n",
        "#print(Ytrain[0:1])\n",
        "\n",
        "print(\"test data\")\n",
        "print(Xtemp[0:1 , :])\n",
        "# print(Ytemp[0:3])\n",
        "\n",
        "print(\"diff\")\n",
        "print(Xtrain[0:1 , :] - Xtemp[0:1, :])"
      ],
      "execution_count": 41,
      "outputs": [
        {
          "output_type": "stream",
          "text": [
            "[[-8.84842519e-02 -1.71252019e+00 -4.59805922e-01 -1.73240693e-01\n",
            "  -1.63710971e+00 -4.70768849e-01 -2.16093605e-01 -2.46149825e-01\n",
            "  -3.23979539e-01 -1.81132159e-01 -4.00504624e-01 -2.19991906e-02\n",
            "  -2.32010868e-02 -4.72374129e-02 -4.73287980e-01 -3.25232006e-01\n",
            "  -2.09734584e-01 -4.01746566e-01 -2.72671940e-02 -3.22351108e-02\n",
            "  -7.36250544e-02 -1.50563079e+00 -3.28327853e-01 -2.56811085e-01\n",
            "  -4.05537676e-01 -4.07783408e-02 -6.46380722e-02 -1.25430254e-01\n",
            "  -3.30027787e+00 -3.30051596e-01 -3.39951911e-01 -4.08619016e-01\n",
            "  -5.72305998e-02 -1.61069367e-01 -1.96777880e-01 -3.00808528e+00\n",
            "  -3.28292426e-01 -3.43749693e-01 -4.07589072e-01 -5.02286258e-02\n",
            "  -2.22689854e-01 -2.36792137e-01 -2.46149825e-01  4.40903144e+01\n",
            "  -1.57962912e-02 -4.73287980e-01  4.38307983e+01 -2.30898139e-02\n",
            "  -1.50563079e+00  4.19401266e+01 -3.59076403e-02 -3.30027787e+00\n",
            "   3.77592764e+01 -7.53219640e-02 -3.00808528e+00  3.62363857e+01\n",
            "  -1.32545399e-01 -1.29078310e+00 -3.23445230e-01 -7.53369415e-02\n",
            "  -3.78788372e-01 -3.77607723e-02 -1.65826958e-05  8.04955626e-03\n",
            "  -1.38288290e+00 -3.23534630e-01 -7.65746111e-02 -3.78762425e-01\n",
            "  -3.88359626e-02 -3.84093824e-04  6.84275309e-03 -1.56287223e+00\n",
            "  -3.23624391e-01 -9.22064420e-02 -3.78603841e-01 -4.27065377e-02\n",
            "  -1.35941117e-03  4.63966396e-03 -1.59019820e+00 -3.23888577e-01\n",
            "  -1.08250904e-01 -3.77201558e-01 -5.92174778e-02  7.48851020e-04\n",
            "   6.67040537e-03 -1.52466848e+00 -3.22200235e-01 -1.12236595e-01\n",
            "  -3.75595335e-01 -5.89723051e-02 -7.34254337e-03 -9.80573220e-03]]\n",
            "test data\n",
            "[[-8.72238895e-02  6.25523198e-01 -4.49642302e-01 -1.71021074e-01\n",
            "   7.11891819e-01 -4.60274076e-01 -2.12992345e-01 -1.28870651e-01\n",
            "  -3.23979539e-01 -1.81132159e-01 -4.00504624e-01 -2.19991906e-02\n",
            "  -2.32010868e-02 -4.72374129e-02 -8.49792201e-02 -3.25232006e-01\n",
            "  -2.09734584e-01 -4.01746566e-01 -2.72671940e-02 -3.22351108e-02\n",
            "  -7.36250544e-02  5.07814824e-02 -3.28327853e-01 -2.56810902e-01\n",
            "  -4.05537676e-01 -4.07783408e-02 -6.46380722e-02 -1.25430254e-01\n",
            "   1.64868029e-01 -3.30051596e-01 -3.39951911e-01 -4.08619016e-01\n",
            "  -5.72305998e-02 -1.61069367e-01 -1.96777880e-01  2.62253381e-01\n",
            "  -3.28292426e-01 -3.43749482e-01 -4.07589072e-01 -5.02286258e-02\n",
            "  -2.22689854e-01 -2.36792137e-01 -1.28870651e-01 -2.41812858e-02\n",
            "  -1.57962912e-02 -8.49792201e-02 -2.57839598e-02 -2.30898139e-02\n",
            "   5.07814824e-02 -3.22489646e-02 -3.59076403e-02  1.64868029e-01\n",
            "  -5.32304390e-02 -7.53219640e-02  2.62253381e-01 -8.09058103e-02\n",
            "  -1.32540757e-01  3.91895289e-01 -3.23445230e-01 -7.53360244e-02\n",
            "  -3.78788372e-01 -3.77607723e-02 -1.65826958e-05  8.04955626e-03\n",
            "   4.19403216e-01 -3.23534630e-01 -7.65735035e-02 -3.78762425e-01\n",
            "  -3.88359626e-02 -3.84093824e-04  6.84275309e-03  5.88932659e-01\n",
            "  -3.23624391e-01 -9.22051764e-02 -3.78603841e-01 -4.27065377e-02\n",
            "  -1.35941117e-03  4.63966396e-03  6.54567980e-01 -3.23888577e-01\n",
            "  -1.08249181e-01 -3.77201558e-01 -5.92174778e-02  7.48851020e-04\n",
            "   6.67040537e-03  7.39507911e-01 -3.22200235e-01 -1.12233044e-01\n",
            "  -3.75595335e-01 -5.89723051e-02 -7.34254337e-03 -9.80573220e-03]]\n",
            "diff\n",
            "[[-1.26036232e-03 -2.33804339e+00 -1.01636196e-02 -2.21961938e-03\n",
            "  -2.34900153e+00 -1.04947724e-02 -3.10126054e-03 -1.17279174e-01\n",
            "   0.00000000e+00  0.00000000e+00  0.00000000e+00  0.00000000e+00\n",
            "   0.00000000e+00  0.00000000e+00 -3.88308760e-01  0.00000000e+00\n",
            "   0.00000000e+00  0.00000000e+00  0.00000000e+00  0.00000000e+00\n",
            "   0.00000000e+00 -1.55641227e+00  0.00000000e+00 -1.83471488e-07\n",
            "   0.00000000e+00 -8.88178420e-16  0.00000000e+00  0.00000000e+00\n",
            "  -3.46514590e+00  0.00000000e+00  0.00000000e+00  0.00000000e+00\n",
            "   0.00000000e+00  0.00000000e+00  0.00000000e+00 -3.27033866e+00\n",
            "   3.88578059e-16 -2.10842860e-07  2.77555756e-16 -1.40859546e-15\n",
            "   0.00000000e+00  0.00000000e+00 -1.17279174e-01  4.41144957e+01\n",
            "   0.00000000e+00 -3.88308760e-01  4.38565823e+01  0.00000000e+00\n",
            "  -1.55641227e+00  4.19723755e+01  0.00000000e+00 -3.46514590e+00\n",
            "   3.78125069e+01  0.00000000e+00 -3.27033866e+00  3.63172915e+01\n",
            "  -4.64232966e-06 -1.68267839e+00  1.83186799e-15 -9.17098750e-07\n",
            "   1.55431223e-15 -2.79151702e-14  0.00000000e+00  0.00000000e+00\n",
            "  -1.80228611e+00  1.44328993e-15 -1.10760912e-06  1.27675648e-15\n",
            "  -4.18901025e-14  0.00000000e+00  0.00000000e+00 -2.15180489e+00\n",
            "  -1.11022302e-15 -1.26559146e-06 -9.43689571e-16 -5.96883654e-14\n",
            "   0.00000000e+00  0.00000000e+00 -2.24476618e+00  6.16173779e-15\n",
            "  -1.72345957e-06  5.27355937e-15 -1.53654867e-13  0.00000000e+00\n",
            "   0.00000000e+00 -2.26417639e+00 -1.54321000e-14 -3.55116900e-06\n",
            "  -1.31561428e-14 -6.48217591e-13  0.00000000e+00  0.00000000e+00]]\n"
          ],
          "name": "stdout"
        }
      ]
    },
    {
      "cell_type": "markdown",
      "metadata": {
        "id": "NQBCwVUEtAXj",
        "colab_type": "text"
      },
      "source": [
        "# Part 8: Number of examples per class\n",
        "\n",
        "Question 8: Can we use the dataset as it is? Why not?\n",
        "\n",
        "Lets randomly shuffle the data, to get some examples of each class in training data and in the remaining 30%. Use the function `shuffle` in scikit learn\n",
        "\n",
        "https://scikit-learn.org/stable/modules/generated/sklearn.utils.shuffle.html"
      ]
    },
    {
      "cell_type": "markdown",
      "metadata": {
        "id": "P6uDSDNzqxHT",
        "colab_type": "text"
      },
      "source": [
        "We can not use same data as training need to cover complete possible nature of data while unshuffled data might not be able to cover that. \n"
      ]
    },
    {
      "cell_type": "code",
      "metadata": {
        "id": "g-Y4c8gttAXk",
        "colab_type": "code",
        "colab": {
          "base_uri": "https://localhost:8080/",
          "height": 918
        },
        "outputId": "d1550350-5c27-48fe-8198-9a8bf5c8f233"
      },
      "source": [
        "from sklearn.utils import shuffle\n",
        "\n",
        "# Randomly shuffle data, to get both classes in training and testing\n",
        "XShuffled , YShuffled = shuffle(X , Y , random_state = 0)\n",
        "\n",
        "# Divide the data into training and validation/test again\n",
        "Xtrain = XShuffled[0:nTrain , :]\n",
        "Xtemp = XShuffled[(nTrain+1) : , :]\n",
        "\n",
        "Ytrain = YShuffled[0:nTrain]\n",
        "Ytemp = YShuffled[(nTrain+1) :]\n",
        "\n",
        "print('Xtrain has size {}.'.format(Xtrain.shape))\n",
        "print('Ytrain has size {}.'.format(Ytrain.shape))\n",
        "\n",
        "print('Xtemp has size {}.'.format(Xtemp.shape))\n",
        "print('Ytemp has size {}.'.format(Ytemp.shape))\n",
        "\n",
        "# Print the number of examples of each class, for the training data and the remaining 30%\n",
        "\n",
        "print(Xtrain[0:1 , :])\n",
        "print(Ytrain[0:1])\n",
        "\n",
        "print(\"test data\")\n",
        "print(Xtemp[0:1 , :])\n",
        "print(Ytemp[0:1])\n",
        "\n"
      ],
      "execution_count": 42,
      "outputs": [
        {
          "output_type": "stream",
          "text": [
            "Xtrain has size (534896, 92).\n",
            "Ytrain has size (534896,).\n",
            "Xtemp has size (229240, 92).\n",
            "Ytemp has size (229240,).\n",
            "[[-8.77664822e-02  6.30481424e-01 -4.50531913e-01 -1.71454092e-01\n",
            "   7.14065482e-01 -4.60324659e-01 -2.13068153e-01 -2.16138179e-01\n",
            "  -3.23979539e-01 -1.81131783e-01 -4.00504624e-01 -2.19991906e-02\n",
            "  -2.32010868e-02 -4.72374129e-02 -2.96060509e-01 -3.25232006e-01\n",
            "  -2.09734584e-01 -4.01746566e-01 -2.72671940e-02 -3.22351108e-02\n",
            "  -7.36250544e-02 -2.54863387e-01 -3.28327853e-01 -2.56810826e-01\n",
            "  -4.05537676e-01 -4.07783408e-02 -6.46380722e-02 -1.25430254e-01\n",
            "   8.01237927e-02 -3.30051596e-01 -3.39951689e-01 -4.08619016e-01\n",
            "  -5.72305998e-02 -1.61069367e-01 -1.96777880e-01  2.56061475e-01\n",
            "  -3.28292426e-01 -3.43749328e-01 -4.07589072e-01 -5.02286258e-02\n",
            "  -2.22689854e-01 -2.36792137e-01 -2.16138179e-01 -2.41812747e-02\n",
            "  -1.57962912e-02 -2.96060509e-01 -2.57839499e-02 -2.30898139e-02\n",
            "  -2.54863387e-01 -3.22489600e-02 -3.59076403e-02  8.01237927e-02\n",
            "  -5.32304384e-02 -7.53219640e-02  2.56061475e-01 -8.09065385e-02\n",
            "  -1.32542571e-01  6.32160473e-01 -3.23445230e-01 -7.53364830e-02\n",
            "  -3.78788372e-01 -3.77607723e-02 -1.65826958e-05  8.04955626e-03\n",
            "   5.51331011e-01 -3.23534630e-01 -7.65737068e-02 -3.78762425e-01\n",
            "  -3.88359626e-02 -3.84093824e-04  6.84275309e-03  5.56662367e-01\n",
            "  -3.23624391e-01 -9.22039462e-02 -3.78603841e-01 -4.27065377e-02\n",
            "  -1.35941117e-03  4.63966396e-03  6.61210427e-01 -3.23888577e-01\n",
            "  -1.08249511e-01 -3.77201558e-01 -5.92174778e-02  7.48851020e-04\n",
            "   6.67040537e-03  7.41869780e-01 -3.22200235e-01 -1.12232153e-01\n",
            "  -3.75595335e-01 -5.89723051e-02 -7.34254337e-03 -9.80573220e-03]]\n",
            "[1.]\n",
            "test data\n",
            "[[-8.74780730e-02  6.00755757e-01 -4.50510681e-01 -1.71506711e-01\n",
            "   6.99864880e-01 -4.60836598e-01 -2.13643709e-01 -1.49959172e-01\n",
            "  -3.23979539e-01 -1.81131893e-01 -4.00504624e-01 -2.19991906e-02\n",
            "  -2.32010868e-02 -4.72374129e-02 -1.37419437e-01 -3.25232006e-01\n",
            "  -2.09734355e-01 -4.01746566e-01 -2.72671940e-02 -3.22351108e-02\n",
            "  -7.36250544e-02 -4.56991399e-02 -3.28327853e-01 -2.56811085e-01\n",
            "  -4.05537676e-01 -4.07783408e-02 -6.46380722e-02 -1.25430254e-01\n",
            "   1.72818370e-01 -3.30051596e-01 -3.39951689e-01 -4.08619016e-01\n",
            "  -5.72305998e-02 -1.61069367e-01 -1.96777880e-01  2.47484004e-01\n",
            "  -3.28292426e-01 -3.43749271e-01 -4.07589072e-01 -5.02286258e-02\n",
            "  -2.22689854e-01 -2.36792137e-01 -1.49959172e-01 -2.41812842e-02\n",
            "  -1.57962912e-02 -1.37419437e-01 -2.57839580e-02 -2.30898139e-02\n",
            "  -4.56991399e-02 -3.22489634e-02 -3.59076403e-02  1.72818370e-01\n",
            "  -5.32304391e-02 -7.53219640e-02  2.47484004e-01 -8.02994994e-02\n",
            "  -1.31029969e-01  4.18926364e-01 -3.23445230e-01 -7.53357283e-02\n",
            "  -3.78788372e-01 -3.77607723e-02 -1.65826958e-05  8.04955626e-03\n",
            "   3.78466832e-01 -3.23534630e-01 -7.65733322e-02 -3.78762425e-01\n",
            "  -3.88359626e-02 -3.84093824e-04  6.84275309e-03  4.52015707e-01\n",
            "  -3.23624391e-01 -9.22052488e-02 -3.78603841e-01 -4.27065377e-02\n",
            "  -1.35941117e-03  4.63966396e-03  6.30510087e-01 -3.23888577e-01\n",
            "  -1.08249686e-01 -3.77201558e-01 -5.92174778e-02  7.48851020e-04\n",
            "   6.67040537e-03  7.27598586e-01 -3.22200235e-01 -1.12232292e-01\n",
            "  -3.75595335e-01 -5.89723051e-02 -7.34254337e-03 -9.80573220e-03]]\n",
            "[1.]\n"
          ],
          "name": "stdout"
        }
      ]
    },
    {
      "cell_type": "markdown",
      "metadata": {
        "id": "QS5O3Vu3tAXo",
        "colab_type": "text"
      },
      "source": [
        "#  Part 9: Split non-training data data into validation and test\n",
        "Split your non-training data (Xtemp, Ytemp) into 50% validation (Xval, Yval) and 50% testing (Xtest, Ytest), we use a function from scikit learn. \n",
        "\n",
        "https://scikit-learn.org/stable/modules/generated/sklearn.model_selection.train_test_split.html\n"
      ]
    },
    {
      "cell_type": "code",
      "metadata": {
        "id": "gLVArlT_tAXp",
        "colab_type": "code",
        "colab": {
          "base_uri": "https://localhost:8080/",
          "height": 34
        },
        "outputId": "c3ff8746-84e0-4780-bf65-be95dee6f801"
      },
      "source": [
        "from sklearn.model_selection import train_test_split\n",
        "\n",
        "Xval , Xtest , Yval , Ytest  = train_test_split(Xtemp , Ytemp , test_size = .5 , random_state = 42)\n",
        "\n",
        "\n",
        "print('The validation and test data have size {}, {}, {} and {}'.format(Xval.shape, Xtest.shape, Yval.shape, Ytest.shape))"
      ],
      "execution_count": 43,
      "outputs": [
        {
          "output_type": "stream",
          "text": [
            "The validation and test data have size (114620, 92), (114620, 92), (114620,) and (114620,)\n"
          ],
          "name": "stdout"
        }
      ]
    },
    {
      "cell_type": "markdown",
      "metadata": {
        "id": "3SQ0ABnhtAXu",
        "colab_type": "text"
      },
      "source": [
        "# Part 10: DNN classification\n",
        "\n",
        "Finish this code to create a first version of the classifier using a DNN. Start with a simple network with 2 dense layers (with 20 nodes each), using sigmoid activation functions. The final dense layer should have a single node and a sigmoid activation function. We start with the SGD optimizer.\n",
        "\n",
        "Relevant functions are\n",
        "\n",
        "`model.add()`, adds a layer to the network\n",
        "\n",
        "`Dense()`, a dense network layer\n",
        "\n",
        "`model.compile()`, compile the model, add \" metrics=['accuracy'] \" to print the classification accuracy during the training\n",
        "\n",
        "`model.fit()`, train the model with some training data\n",
        "\n",
        "`model.evaluate()`, apply the trained model to some test data\n",
        "\n",
        "See https://keras.io/layers/core/ for information on how the `Dense()` function works\n",
        "\n",
        "Import a relevant cost / loss function for binary classification from keras.losses (https://keras.io/losses/)\n",
        "\n",
        "See https://keras.io/models/model/ for how to compile, train and evaluate the model"
      ]
    },
    {
      "cell_type": "code",
      "metadata": {
        "id": "_HL3nHgttAXv",
        "colab_type": "code",
        "colab": {
          "base_uri": "https://localhost:8080/",
          "height": 131
        },
        "outputId": "fb031b8a-bb95-46b4-fce7-56f50cc9275d"
      },
      "source": [
        "from keras.models import Sequential, Model\n",
        "from keras.layers import Input, Dense\n",
        "from keras.optimizers import SGD\n",
        "from keras.losses import *\n",
        "\n",
        "# Set seed from random number generator, for better comparisons\n",
        "from numpy.random import seed\n",
        "seed(123)\n",
        "\n",
        "def build_DNN(input_shape, n_layers, n_nodes, act_fun='sigmoid', optimizer='sgd', learning_rate=0.01, \n",
        "              use_bn=False, use_dropout=False, use_custom_dropout=False):\n",
        "    \n",
        "    # Setup optimizer, depending on input parameter string\n",
        "    if optimizer == \"sgd\":\n",
        "      sgd = optimizers.SGD(lr=learning_rate)\n",
        "\n",
        "    # Setup a sequential model\n",
        "    model = Sequential()\n",
        "\n",
        "    # Add layers to the model, using the input parameters of the build_DNN function\n",
        "    model.add(Dense(2, kernel_initializer='uniform', input_shape=input_shape , ))\n",
        "\n",
        "\n",
        "    # Add first layer, requires input shape\n",
        "    \n",
        "    # Add remaining layers, do not require input shape\n",
        "    for i in range(n_layers-1):\n",
        "        \n",
        "           \n",
        "    \n",
        "    \n",
        "    # Final layer\n",
        "    \n",
        "    \n",
        "    # Compile model\n",
        "    \n",
        "    \n",
        "    return model"
      ],
      "execution_count": 24,
      "outputs": [
        {
          "output_type": "error",
          "ename": "IndentationError",
          "evalue": "ignored",
          "traceback": [
            "\u001b[0;36m  File \u001b[0;32m\"<ipython-input-24-0e987f23632c>\"\u001b[0;36m, line \u001b[0;32m38\u001b[0m\n\u001b[0;31m    return model\u001b[0m\n\u001b[0m         ^\u001b[0m\n\u001b[0;31mIndentationError\u001b[0m\u001b[0;31m:\u001b[0m expected an indented block\n"
          ]
        }
      ]
    },
    {
      "cell_type": "code",
      "metadata": {
        "id": "Ax7v7aQetAXz",
        "colab_type": "code",
        "colab": {}
      },
      "source": [
        "# Lets define a help function for plotting the training results\n",
        "\n",
        "# IMPORTANT NOTE\n",
        "# The history unfortunately behaves a bit randomly for every user\n",
        "# If the plots for accuracy and loss look mixed, change the order of\n",
        "# val_loss, val_acc, loss, acc\n",
        "# until the plots look as they \"should\"\n",
        "\n",
        "import matplotlib.pyplot as plt\n",
        "def plot_results(history):\n",
        "    val_loss, val_acc, loss, acc = history.history.values()\n",
        "\n",
        "    plt.figure(figsize=(10,4))\n",
        "    plt.xlabel('Epochs')\n",
        "    plt.ylabel('Loss')\n",
        "    plt.plot(loss)\n",
        "    plt.plot(val_loss)\n",
        "    plt.legend(['Training','Validation'])\n",
        "\n",
        "    plt.figure(figsize=(10,4))\n",
        "    plt.xlabel('Epochs')\n",
        "    plt.ylabel('Accuracy')\n",
        "    plt.plot(acc)\n",
        "    plt.plot(val_acc)\n",
        "    plt.legend(['Training','Validation'])\n",
        "\n",
        "    plt.show()"
      ],
      "execution_count": 0,
      "outputs": []
    },
    {
      "cell_type": "markdown",
      "metadata": {
        "id": "FPh4D0-btAX6",
        "colab_type": "text"
      },
      "source": [
        "# Part 11: Train the DNN\n",
        "\n",
        "Time to train the DNN, we start simple with 2 layers with 2 nodes each, learning rate 0.1."
      ]
    },
    {
      "cell_type": "markdown",
      "metadata": {
        "id": "GjOQa9GGtAX7",
        "colab_type": "text"
      },
      "source": [
        "### 2 layers, 20 nodes"
      ]
    },
    {
      "cell_type": "code",
      "metadata": {
        "scrolled": true,
        "id": "VNpdqhittAX9",
        "colab_type": "code",
        "colab": {}
      },
      "source": [
        "# Setup some training parameters\n",
        "batch_size = 10000\n",
        "epochs = 20\n",
        "\n",
        "input_shape = ?\n",
        "\n",
        "# Build the model\n",
        "model1 = \n",
        "\n",
        "# Train the model, provide training data and validation data\n",
        "history1 = "
      ],
      "execution_count": 0,
      "outputs": []
    },
    {
      "cell_type": "code",
      "metadata": {
        "id": "2ZfKgi9StAYC",
        "colab_type": "code",
        "colab": {}
      },
      "source": [
        "# Evaluate the model on the test data\n",
        "score = \n",
        "\n",
        "print('Test loss: %.4f' % score[0])\n",
        "print('Test accuracy: %.4f' % score[1])"
      ],
      "execution_count": 0,
      "outputs": []
    },
    {
      "cell_type": "code",
      "metadata": {
        "id": "nTn8X9fZtAYF",
        "colab_type": "code",
        "colab": {}
      },
      "source": [
        "# Plot the history from the training run\n",
        "plot_results(history1)"
      ],
      "execution_count": 0,
      "outputs": []
    },
    {
      "cell_type": "markdown",
      "metadata": {
        "id": "B4FsMldmtAYI",
        "colab_type": "text"
      },
      "source": [
        "# Part 12: More questions\n",
        "\n",
        "Question 9: What happens if you add several Dense layers without specifying the activation function?\n",
        "\n",
        "Question 10: How are the weights in each dense layer initialized as default? How are the bias weights initialized?\n"
      ]
    },
    {
      "cell_type": "markdown",
      "metadata": {
        "id": "KkPQCExctAYJ",
        "colab_type": "text"
      },
      "source": [
        "# Part 13: Balancing the classes\n",
        "\n",
        "This dataset is rather unbalanced, we need to define class weights so that the training pays more attention to the class with fewer samples. We use a function in scikit learn\n",
        "\n",
        "https://scikit-learn.org/stable/modules/generated/sklearn.utils.class_weight.compute_class_weight.html"
      ]
    },
    {
      "cell_type": "code",
      "metadata": {
        "id": "yzbhOdf_tAYK",
        "colab_type": "code",
        "colab": {}
      },
      "source": [
        "from sklearn.utils import class_weight\n",
        "\n",
        "# Calculate class weights\n",
        "\n",
        "\n",
        "# Print the class weights\n"
      ],
      "execution_count": 0,
      "outputs": []
    },
    {
      "cell_type": "markdown",
      "metadata": {
        "id": "d544Sbi_tAYP",
        "colab_type": "text"
      },
      "source": [
        "### 2 layers, 20 nodes, class weights"
      ]
    },
    {
      "cell_type": "code",
      "metadata": {
        "scrolled": true,
        "id": "l-QxL6WUtAYQ",
        "colab_type": "code",
        "colab": {}
      },
      "source": [
        "# Setup some training parameters\n",
        "batch_size = 10000\n",
        "epochs = 20\n",
        "input_shape = ?\n",
        "\n",
        "# Build and train model\n",
        "model2 = \n",
        "\n",
        "history2 = "
      ],
      "execution_count": 0,
      "outputs": []
    },
    {
      "cell_type": "code",
      "metadata": {
        "id": "iE3aHzdttAYV",
        "colab_type": "code",
        "colab": {}
      },
      "source": [
        "# Evaluate model on test data\n",
        "score = \n",
        "\n",
        "print('Test loss: %.4f' % score[0])\n",
        "print('Test accuracy: %.4f' % score[1])"
      ],
      "execution_count": 0,
      "outputs": []
    },
    {
      "cell_type": "code",
      "metadata": {
        "id": "BRDyB_8_tAYY",
        "colab_type": "code",
        "colab": {}
      },
      "source": [
        "plot_results(history2)"
      ],
      "execution_count": 0,
      "outputs": []
    },
    {
      "cell_type": "markdown",
      "metadata": {
        "id": "jnUfj87XtAYd",
        "colab_type": "text"
      },
      "source": [
        "# Part 14: More questions\n",
        "\n",
        "Question 11: Why do we have to use a batch size? Why can't we simply use all data at once? This is more relevant for even larger datasets.\n",
        "\n",
        "Question 12: How busy is the GPU for a batch size of 100? How much GPU memory is used? Hint: run 'nvidia-smi' on the cloud computer a few times during training.\n",
        "\n",
        "Question 13: What is the processing time for one training epoch when the batch size is 100? What is the processing time for one epoch when the batch size is 1,000? What is the processing time for one epoch when the batch size is 10,000? Explain the results. \n",
        "\n",
        "Question 14: How many times are the weights in the DNN updated in each training epoch if the batch size is 100? How many times are the weights in the DNN updated in each training epoch if the batch size is 1,000? How many times are the weights in the DNN updated in each training epoch if the batch size is 10,000?  \n",
        "\n",
        "Question 15: What limits how large the batch size can be?\n",
        "\n",
        "Question 16: Generally speaking, how is the learning rate related to the batch size? If the batch size is decreased, how should the learning rate be changed?\n",
        "\n",
        "Lets use a batch size of 10,000 from now on, and a learning rate of 0.1."
      ]
    },
    {
      "cell_type": "markdown",
      "metadata": {
        "id": "FD6_9Z-ktAYe",
        "colab_type": "text"
      },
      "source": [
        "# Part 15: Increasing the complexity\n",
        "\n",
        "Lets try some different configurations of number of layers and number of nodes per layer.\n",
        "\n",
        "Question 17: How many trainable parameters does the network with 4 dense layers with 50 nodes each have, compared to the initial network with 2 layers and 20 nodes per layer? Hint: use model.summary()"
      ]
    },
    {
      "cell_type": "markdown",
      "metadata": {
        "id": "uuJbOyYZtAYf",
        "colab_type": "text"
      },
      "source": [
        "### 4 layers, 20 nodes, class weights"
      ]
    },
    {
      "cell_type": "code",
      "metadata": {
        "scrolled": true,
        "id": "Ym-wW4G1tAYf",
        "colab_type": "code",
        "colab": {}
      },
      "source": [
        "# Setup some training parameters\n",
        "batch_size = 10000\n",
        "epochs = 20\n",
        "input_shape = ?\n",
        "\n",
        "# Build and train model\n",
        "model3 = \n",
        "\n",
        "history3 = "
      ],
      "execution_count": 0,
      "outputs": []
    },
    {
      "cell_type": "code",
      "metadata": {
        "id": "iJegDIcDtAYj",
        "colab_type": "code",
        "colab": {}
      },
      "source": [
        "# Evaluate model on test data\n",
        "score = \n",
        "\n",
        "print('Test loss: %.4f' % score[0])\n",
        "print('Test accuracy: %.4f' % score[1])"
      ],
      "execution_count": 0,
      "outputs": []
    },
    {
      "cell_type": "code",
      "metadata": {
        "id": "IJ9hTDRUtAYm",
        "colab_type": "code",
        "colab": {}
      },
      "source": [
        "plot_results(history3)"
      ],
      "execution_count": 0,
      "outputs": []
    },
    {
      "cell_type": "markdown",
      "metadata": {
        "id": "peWwTUWCtAYq",
        "colab_type": "text"
      },
      "source": [
        "### 2 layers, 50 nodes, class weights"
      ]
    },
    {
      "cell_type": "code",
      "metadata": {
        "scrolled": true,
        "id": "tLGrGiM8tAYr",
        "colab_type": "code",
        "colab": {}
      },
      "source": [
        "# Setup some training parameters\n",
        "batch_size = 10000\n",
        "epochs = 20\n",
        "input_shape = ?\n",
        "\n",
        "# Build and train model\n",
        "model4 = \n",
        "\n",
        "history4 = "
      ],
      "execution_count": 0,
      "outputs": []
    },
    {
      "cell_type": "code",
      "metadata": {
        "id": "zXrVzRYLtAYw",
        "colab_type": "code",
        "colab": {}
      },
      "source": [
        "# Evaluate model on test data\n",
        "score = \n",
        "\n",
        "print('Test loss: %.4f' % score[0])\n",
        "print('Test accuracy: %.4f' % score[1])"
      ],
      "execution_count": 0,
      "outputs": []
    },
    {
      "cell_type": "code",
      "metadata": {
        "id": "Hffe0l0JtAY7",
        "colab_type": "code",
        "colab": {}
      },
      "source": [
        "plot_results(history4)"
      ],
      "execution_count": 0,
      "outputs": []
    },
    {
      "cell_type": "markdown",
      "metadata": {
        "id": "jpYc0wzwtAY-",
        "colab_type": "text"
      },
      "source": [
        "### 4 layers, 50 nodes, class weights"
      ]
    },
    {
      "cell_type": "code",
      "metadata": {
        "scrolled": true,
        "id": "4bZRgW5DtAY_",
        "colab_type": "code",
        "colab": {}
      },
      "source": [
        "# Setup some training parameters\n",
        "batch_size = 10000\n",
        "epochs = 20\n",
        "input_shape = ?\n",
        "\n",
        "# Build and train model\n",
        "model5 = \n",
        "\n",
        "history5 = "
      ],
      "execution_count": 0,
      "outputs": []
    },
    {
      "cell_type": "code",
      "metadata": {
        "id": "mWmaHSeBtAZD",
        "colab_type": "code",
        "colab": {}
      },
      "source": [
        "# Evaluate model on test data\n",
        "score = \n",
        "\n",
        "print('Test loss: %.4f' % score[0])\n",
        "print('Test accuracy: %.4f' % score[1])"
      ],
      "execution_count": 0,
      "outputs": []
    },
    {
      "cell_type": "code",
      "metadata": {
        "id": "_-O8bFnatAZG",
        "colab_type": "code",
        "colab": {}
      },
      "source": [
        "plot_results(history5)"
      ],
      "execution_count": 0,
      "outputs": []
    },
    {
      "cell_type": "markdown",
      "metadata": {
        "id": "73DifZkptAZK",
        "colab_type": "text"
      },
      "source": [
        "# Part 16: Batch normalization\n",
        "\n",
        "Now add batch normalization after each dense layer. Remember to import BatchNormalization from keras.layers. \n",
        "\n",
        "See https://keras.io/layers/normalization/ for information about how to call the function.\n",
        "\n",
        "Question 18: Why is batch normalization important when training deep networks?"
      ]
    },
    {
      "cell_type": "markdown",
      "metadata": {
        "id": "70LVSdL5tAZL",
        "colab_type": "text"
      },
      "source": [
        "### 2 layers, 20 nodes, class weights, batch normalization"
      ]
    },
    {
      "cell_type": "code",
      "metadata": {
        "scrolled": true,
        "id": "D__rWMHptAZM",
        "colab_type": "code",
        "colab": {}
      },
      "source": [
        "# Setup some training parameters\n",
        "batch_size = 10000\n",
        "epochs = 20\n",
        "input_shape = ?\n",
        "\n",
        "# Build and train model\n",
        "model6 = \n",
        "\n",
        "history6 = "
      ],
      "execution_count": 0,
      "outputs": []
    },
    {
      "cell_type": "code",
      "metadata": {
        "id": "hJs5juqPtAZQ",
        "colab_type": "code",
        "colab": {}
      },
      "source": [
        "# Evaluate model on test data\n",
        "score = \n",
        "\n",
        "print('Test loss: %.4f' % score[0])\n",
        "print('Test accuracy: %.4f' % score[1])"
      ],
      "execution_count": 0,
      "outputs": []
    },
    {
      "cell_type": "code",
      "metadata": {
        "id": "fPeWPjZ3tAZT",
        "colab_type": "code",
        "colab": {}
      },
      "source": [
        "plot_results(history6)"
      ],
      "execution_count": 0,
      "outputs": []
    },
    {
      "cell_type": "markdown",
      "metadata": {
        "id": "Kt40jSNztAZY",
        "colab_type": "text"
      },
      "source": [
        "# Part 17: Activation function\n",
        "\n",
        "Try changing the activation function in each layer from sigmoid to ReLU, write down the test accuracy.\n",
        "\n",
        "Note: the last layer should still have a sigmoid activation function."
      ]
    },
    {
      "cell_type": "markdown",
      "metadata": {
        "id": "-UmPGFnGtAZY",
        "colab_type": "text"
      },
      "source": [
        "### 2 layers, 20 nodes, class weights, ReLU, no batch normalization"
      ]
    },
    {
      "cell_type": "code",
      "metadata": {
        "scrolled": true,
        "id": "jp_gPyO6tAZZ",
        "colab_type": "code",
        "colab": {}
      },
      "source": [
        "# Setup some training parameters\n",
        "batch_size = 10000\n",
        "epochs = 20\n",
        "input_shape = ?\n",
        "\n",
        "# Build and train model\n",
        "model7 = \n",
        "\n",
        "history7 = "
      ],
      "execution_count": 0,
      "outputs": []
    },
    {
      "cell_type": "code",
      "metadata": {
        "id": "iR0xtSVDtAZc",
        "colab_type": "code",
        "colab": {}
      },
      "source": [
        "# Evaluate model on test data\n",
        "score = \n",
        "\n",
        "print('Test loss: %.4f' % score[0])\n",
        "print('Test accuracy: %.4f' % score[1])"
      ],
      "execution_count": 0,
      "outputs": []
    },
    {
      "cell_type": "code",
      "metadata": {
        "id": "4r9E83KGtAZg",
        "colab_type": "code",
        "colab": {}
      },
      "source": [
        "plot_results(history7)"
      ],
      "execution_count": 0,
      "outputs": []
    },
    {
      "cell_type": "markdown",
      "metadata": {
        "id": "2RGMlXi1tAZj",
        "colab_type": "text"
      },
      "source": [
        "# Part 18: Optimizer\n",
        "\n",
        "Try changing the optimizer from SGD to Adam (with learning rate 0.1 as before). Remember to import the Adam optimizer from keras.optimizers. \n",
        "\n",
        "https://keras.io/optimizers/\n"
      ]
    },
    {
      "cell_type": "markdown",
      "metadata": {
        "id": "4iu-XCsRtAZl",
        "colab_type": "text"
      },
      "source": [
        "### 2 layers, 20 nodes, class weights, Adam optimizer, no batch normalization, sigmoid activations"
      ]
    },
    {
      "cell_type": "code",
      "metadata": {
        "scrolled": true,
        "id": "k7PAktKVtAZm",
        "colab_type": "code",
        "colab": {}
      },
      "source": [
        "# Setup some training parameters\n",
        "batch_size = 10000\n",
        "epochs = 20\n",
        "input_shape = ?\n",
        "\n",
        "# Build and train model\n",
        "model8 = \n",
        "\n",
        "history8 = "
      ],
      "execution_count": 0,
      "outputs": []
    },
    {
      "cell_type": "code",
      "metadata": {
        "id": "tVHWwT7ftAZq",
        "colab_type": "code",
        "colab": {}
      },
      "source": [
        "# Evaluate model on test data\n",
        "score = \n",
        "\n",
        "print('Test loss: %.4f' % score[0])\n",
        "print('Test accuracy: %.4f' % score[1])"
      ],
      "execution_count": 0,
      "outputs": []
    },
    {
      "cell_type": "code",
      "metadata": {
        "id": "Fh1lHsjttAZt",
        "colab_type": "code",
        "colab": {}
      },
      "source": [
        "plot_results(history8)"
      ],
      "execution_count": 0,
      "outputs": []
    },
    {
      "cell_type": "markdown",
      "metadata": {
        "id": "dv9xVPUptAZv",
        "colab_type": "text"
      },
      "source": [
        "# Part 19: Dropout regularization\n",
        "\n",
        "Dropout is a type of regularization that can improve accuracy for validation and test data. \n",
        "\n",
        "Add a Dropout layer after each Dense layer (but not after the final dense layer), with a dropout probability of 50%. Remember to first import the Dropout layer from keras.layers\n",
        "\n",
        "See https://keras.io/layers/core/ for how the Dropout layer works.\n",
        "\n",
        "---\n",
        "\n",
        "Question 19: How does the validation accuracy change when adding dropout?\n",
        "\n",
        "Question 20: How does the test accuracy change when adding dropout?"
      ]
    },
    {
      "cell_type": "markdown",
      "metadata": {
        "id": "n7FH4IcDtAZx",
        "colab_type": "text"
      },
      "source": [
        "### 2 layers, 20 nodes, class weights, dropout, SGD optimizer, no batch normalization, sigmoid activations"
      ]
    },
    {
      "cell_type": "code",
      "metadata": {
        "scrolled": true,
        "id": "XqKsTlKOtAZy",
        "colab_type": "code",
        "colab": {}
      },
      "source": [
        "# Setup some training parameters\n",
        "batch_size = 10000\n",
        "epochs = 20\n",
        "input_shape = ?\n",
        "\n",
        "# Build and train model\n",
        "model9 = \n",
        "\n",
        "history9 = "
      ],
      "execution_count": 0,
      "outputs": []
    },
    {
      "cell_type": "code",
      "metadata": {
        "id": "E82MDWzAtAZ4",
        "colab_type": "code",
        "colab": {}
      },
      "source": [
        "# Evaluate model on test data\n",
        "score = \n",
        "\n",
        "print('Test loss: %.4f' % score[0])\n",
        "print('Test accuracy: %.4f' % score[1])"
      ],
      "execution_count": 0,
      "outputs": []
    },
    {
      "cell_type": "code",
      "metadata": {
        "id": "FMea7yVetAZ8",
        "colab_type": "code",
        "colab": {}
      },
      "source": [
        "plot_results(history9)"
      ],
      "execution_count": 0,
      "outputs": []
    },
    {
      "cell_type": "markdown",
      "metadata": {
        "id": "9dIsYMY0tAaD",
        "colab_type": "text"
      },
      "source": [
        "# Part 20: Improving performance\n",
        "\n",
        "Spend some time (30 - 90 minutes) playing with the network architecture (number of layers, number of nodes per layer, activation function) and other hyper parameters (optimizer, learning rate, batch size, number of epochs, degree of regularization). For example, try a much deeper network. How much does the training time increase for a network with 10 layers?\n",
        "\n",
        "Question 21: How high classification accuracy can you achieve for the test data? What is your best configuration?"
      ]
    },
    {
      "cell_type": "code",
      "metadata": {
        "scrolled": true,
        "id": "jwxN7dLPtAaE",
        "colab_type": "code",
        "colab": {}
      },
      "source": [
        "# Find your best configuration for the DNN\n",
        "\n",
        "# Build and train DNN\n",
        "model10 = \n",
        "\n",
        "history10 = \n"
      ],
      "execution_count": 0,
      "outputs": []
    },
    {
      "cell_type": "code",
      "metadata": {
        "id": "CAzY1QvltAaN",
        "colab_type": "code",
        "colab": {}
      },
      "source": [
        "# Evaluate DNN on test data\n",
        "score = \n",
        "\n",
        "print('Test loss: %.4f' % score[0])\n",
        "print('Test accuracy: %.4f' % score[1])"
      ],
      "execution_count": 0,
      "outputs": []
    },
    {
      "cell_type": "markdown",
      "metadata": {
        "id": "aiPpL7mDtAaT",
        "colab_type": "text"
      },
      "source": [
        "# Part 21: Dropout uncertainty\n",
        "\n",
        "Dropout can also be used during testing, to obtain an estimate of the model uncertainty. Since dropout will randomly remove connections, the network will produce different results every time the same (test) data is put into the network. This technique is called Monte Carlo dropout. For more information, see this paper http://proceedings.mlr.press/v48/gal16.pdf\n",
        "\n",
        "To achieve this, we need to redefine the Keras Dropout call by running the cell below, and use 'myDropout' in each call to Dropout, in the cell that defines the DNN.\n",
        "\n",
        "Run the same test data through the trained network 100 times, with dropout turned on. \n",
        "\n",
        "Question 22: What is the mean and the standard deviation of the test accuracy?"
      ]
    },
    {
      "cell_type": "code",
      "metadata": {
        "id": "CM3z9RCvtAaT",
        "colab_type": "code",
        "colab": {}
      },
      "source": [
        "import keras\n",
        "\n",
        "class myDropout(keras.layers.Dropout):\n",
        "    \"\"\"Applies Dropout to the input.\n",
        "    Dropout consists in randomly setting\n",
        "    a fraction `rate` of input units to 0 at each update during training time,\n",
        "    which helps prevent overfitting.\n",
        "    # Arguments\n",
        "        rate: float between 0 and 1. Fraction of the input units to drop.\n",
        "        noise_shape: 1D integer tensor representing the shape of the\n",
        "            binary dropout mask that will be multiplied with the input.\n",
        "            For instance, if your inputs have shape\n",
        "            `(batch_size, timesteps, features)` and\n",
        "            you want the dropout mask to be the same for all timesteps,\n",
        "            you can use `noise_shape=(batch_size, 1, features)`.\n",
        "        seed: A Python integer to use as random seed.\n",
        "    # References\n",
        "        - [Dropout: A Simple Way to Prevent Neural Networks from Overfitting](\n",
        "           http://www.jmlr.org/papers/volume15/srivastava14a/srivastava14a.pdf)\n",
        "    \"\"\"\n",
        "    def __init__(self, rate, training=True, noise_shape=None, seed=None, **kwargs):\n",
        "        super(myDropout, self).__init__(rate, noise_shape=None, seed=None,**kwargs)\n",
        "        self.training = training\n",
        "\n",
        "        \n",
        "    def call(self, inputs, training=None):\n",
        "        if 0. < self.rate < 1.:\n",
        "            noise_shape = self._get_noise_shape(inputs)\n",
        "\n",
        "            def dropped_inputs():\n",
        "                return K.dropout(inputs, self.rate, noise_shape,\n",
        "                                 seed=self.seed)\n",
        "            if not training: \n",
        "                return K.in_train_phase(dropped_inputs, inputs, training=self.training)\n",
        "            return K.in_train_phase(dropped_inputs, inputs, training=training)\n",
        "        return inputs"
      ],
      "execution_count": 0,
      "outputs": []
    },
    {
      "cell_type": "markdown",
      "metadata": {
        "id": "4hIxhRMMtAaX",
        "colab_type": "text"
      },
      "source": [
        "### Your best config, custom dropout"
      ]
    },
    {
      "cell_type": "code",
      "metadata": {
        "scrolled": true,
        "id": "oN9gu7mTtAaY",
        "colab_type": "code",
        "colab": {}
      },
      "source": [
        "# Your best training parameters\n",
        "\n",
        "\n",
        "# Build and train model\n",
        "model11 = \n",
        "\n",
        "history11 = "
      ],
      "execution_count": 0,
      "outputs": []
    },
    {
      "cell_type": "code",
      "metadata": {
        "id": "KAyY29zItAac",
        "colab_type": "code",
        "colab": {}
      },
      "source": [
        "# Run this cell a few times to evalute the model on test data, \n",
        "# if you get slightly different test accuracy every time, Dropout during testing is working\n",
        "\n",
        "# Evaluate model on test data\n",
        "score = \n",
        "                       \n",
        "print('Test accuracy: %.4f' % score[1])"
      ],
      "execution_count": 0,
      "outputs": []
    },
    {
      "cell_type": "code",
      "metadata": {
        "id": "ZYPTCS9ttAaf",
        "colab_type": "code",
        "colab": {}
      },
      "source": [
        "# Run the testing 100 times, and save the accuracies in an array\n",
        "\n",
        "    \n",
        "# Calculate and print mean and std of accuracies\n",
        "\n"
      ],
      "execution_count": 0,
      "outputs": []
    },
    {
      "cell_type": "markdown",
      "metadata": {
        "id": "ietNFSzPtAak",
        "colab_type": "text"
      },
      "source": [
        "# Part 22: Cross validation uncertainty\n",
        "\n",
        "Cross validation (CV) is often used to evaluate a model, by training and testing using different subsets of the data it is possible to get the uncertainty as the standard deviation over folds. We here use a help function from scikit-learn to setup the CV, see https://scikit-learn.org/stable/modules/generated/sklearn.model_selection.StratifiedKFold.html . Use 10 folds with shuffling, random state 1234. \n",
        "\n",
        "Note: We here assume that you have found the best hyper parameters, so here the data are only split into training and testing, no validation.\n",
        "\n",
        "---\n",
        "\n",
        "Question 23: What is the mean and the standard deviation of the test accuracy?\n",
        "\n",
        "Question 24: What is the main advantage of dropout compared to CV for estimating test uncertainty?"
      ]
    },
    {
      "cell_type": "code",
      "metadata": {
        "id": "NkbOdES5tAak",
        "colab_type": "code",
        "colab": {}
      },
      "source": [
        "from sklearn.model_selection import StratifiedKFold\n",
        "\n",
        "# Define 10-fold cross validation\n",
        "\n",
        "# Loop over cross validation folds\n",
        "    \n",
        "    # Calculate class weights for current split\n",
        "    \n",
        "    # Rebuild the DNN model, to not continue training on the previously trained model\n",
        "    \n",
        "    # Fit the model with training set and class weights for this fold\n",
        "    \n",
        "    # Evaluate the model using the test set for this fold\n",
        "    \n",
        "    # Save the test accuracy in an array\n",
        "\n",
        "# Calculate and print mean and std of accuracies\n",
        "\n"
      ],
      "execution_count": 0,
      "outputs": []
    },
    {
      "cell_type": "markdown",
      "metadata": {
        "id": "tHGu0V8jtAan",
        "colab_type": "text"
      },
      "source": [
        "# Part 23: DNN regression\n",
        "\n",
        "A similar DNN can be used for regression, instead of classification.\n",
        "\n",
        "Question 25: How would you change the DNN in order to use it for regression instead?"
      ]
    },
    {
      "cell_type": "markdown",
      "metadata": {
        "id": "MSpnNCjEtAap",
        "colab_type": "text"
      },
      "source": [
        "## Report\n",
        "\n",
        "Send in this jupyter notebook, with answers to all questions."
      ]
    }
  ]
}
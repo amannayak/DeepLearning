{
  "nbformat": 4,
  "nbformat_minor": 0,
  "metadata": {
    "accelerator": "GPU",
    "colab": {
      "name": "DNN_Lab_V2.ipynb",
      "provenance": [],
      "collapsed_sections": [
        "MSpnNCjEtAap"
      ],
      "toc_visible": true,
      "machine_shape": "hm",
      "include_colab_link": true
    },
    "kernelspec": {
      "display_name": "Python 3.5",
      "language": "python",
      "name": "python3"
    },
    "language_info": {
      "codemirror_mode": {
        "name": "ipython",
        "version": 3
      },
      "file_extension": ".py",
      "mimetype": "text/x-python",
      "name": "python",
      "nbconvert_exporter": "python",
      "pygments_lexer": "ipython3",
      "version": "3.5.6"
    }
  },
  "cells": [
    {
      "cell_type": "markdown",
      "metadata": {
        "id": "view-in-github",
        "colab_type": "text"
      },
      "source": [
        "<a href=\"https://colab.research.google.com/github/amannayak/DeepLearningIntro/blob/master/DNN_Lab_V2.ipynb\" target=\"_parent\"><img src=\"https://colab.research.google.com/assets/colab-badge.svg\" alt=\"Open In Colab\"/></a>"
      ]
    },
    {
      "cell_type": "markdown",
      "metadata": {
        "colab_type": "text",
        "id": "r8CrCyT6tAW9"
      },
      "source": [
        "# Deep Neural Networks Laboration\n",
        "\n",
        "Data used in this laboration are from the Kitsune Network Attack Dataset, https://archive.ics.uci.edu/ml/datasets/Kitsune+Network+Attack+Dataset . We will focus on the 'Mirai' part of the dataset. Your task is to make a DNN that can classify if each attack is benign or malicious. The dataset has 116 covariates, but to make it a bit more difficult we will remove the first 24 covariates.\n",
        "\n",
        "You need to answer all questions in this notebook."
      ]
    },
    {
      "cell_type": "markdown",
      "metadata": {
        "colab_type": "text",
        "id": "FELKNx_ftAW_"
      },
      "source": [
        "# Part 1: Get the data\n",
        "\n",
        "Use `wget` in the terminal of your cloud machine (in the same directory as where you have saved this notebook) to download the data, i.e.\n",
        "\n",
        "wget https://archive.ics.uci.edu/ml/machine-learning-databases/00516/mirai/Mirai_dataset.csv.gz\n",
        "\n",
        "wget https://archive.ics.uci.edu/ml/machine-learning-databases/00516/mirai/Mirai_labels.csv.gz\n",
        "\n",
        "Then unpack the files using `gunzip` in the terminal, i.e.\n",
        "\n",
        "gunzip Mirai_dataset.csv.gz\n",
        "\n",
        "gunzip Mirai_labels.csv.gz"
      ]
    },
    {
      "cell_type": "code",
      "metadata": {
        "colab_type": "code",
        "id": "uqm5JL_Nacfc",
        "colab": {}
      },
      "source": [
        "#latest change 1.05 Tuesday\n",
        "!pip install -U -q PyDrive\n",
        "\n",
        "from pydrive.auth import GoogleAuth\n",
        "from pydrive.drive import GoogleDrive\n",
        "from google.colab import auth\n",
        "from oauth2client.client import GoogleCredentials\n",
        "\n",
        "# 1. Authenticate and create the PyDrive client.\n",
        "auth.authenticate_user()\n",
        "gauth = GoogleAuth()\n",
        "gauth.credentials = GoogleCredentials.get_application_default()\n",
        "drive = GoogleDrive(gauth)\n",
        "\n",
        "\n",
        "# 2. Load a file by ID and create local file.\n",
        "downloaded = drive.CreateFile({'id':'1896GbKGCJFbqTBJJN1g03s7ZS2Q5DPMf'}) # replace fileid with Id of file you want to access\n",
        "downloaded.GetContentFile('Mirai_dataset.csv') # now you can use export.csv "
      ],
      "execution_count": 0,
      "outputs": []
    },
    {
      "cell_type": "code",
      "metadata": {
        "colab_type": "code",
        "id": "bfR_pIMNpXwy",
        "colab": {}
      },
      "source": [
        "# 2..b. Load a file by ID and create local file.\n",
        "downloaded = drive.CreateFile({'id':'1zqwLJDjh6JX4x-lGKGSVEFcN5Y4wIHLj'}) # replace fileid with Id of file you want to access\n",
        "downloaded.GetContentFile('mirai_labels.csv') # now you can use export.csv \n",
        "\n"
      ],
      "execution_count": 0,
      "outputs": []
    },
    {
      "cell_type": "code",
      "metadata": {
        "colab_type": "code",
        "id": "cjilUxmybADI",
        "colab": {}
      },
      "source": [
        "#testimp = np.genfromtxt('Mirai_dataset.csv')"
      ],
      "execution_count": 0,
      "outputs": []
    },
    {
      "cell_type": "markdown",
      "metadata": {
        "colab_type": "text",
        "id": "yrKo3VzFtAXA"
      },
      "source": [
        "# Part 2: Get a graphics card\n",
        "\n",
        "Lets make sure that our script can see the graphics card that will be used. The graphics cards will perform all the time consuming calculations in every training iteration."
      ]
    },
    {
      "cell_type": "code",
      "metadata": {
        "colab_type": "code",
        "id": "QefNazbYtAXD",
        "colab": {}
      },
      "source": [
        "import os\n",
        "import warnings\n",
        "\n",
        "# Ignore FutureWarning from numpy\n",
        "warnings.simplefilter(action='ignore', category=FutureWarning)\n",
        "\n",
        "import keras.backend as K\n",
        "import tensorflow as tf\n",
        "\n",
        "os.environ[\"CUDA_DEVICE_ORDER\"]=\"PCI_BUS_ID\";\n",
        " \n",
        "# The GPU id to use, usually either \"0\" or \"1\";\n",
        "os.environ[\"CUDA_VISIBLE_DEVICES\"]=\"0\";\n",
        "\n",
        "# Allow growth of GPU memory, otherwise it will always look like all the memory is being used\n",
        "physical_devices = tf.config.experimental.list_physical_devices('GPU')\n",
        "\n",
        "#print(physical_devices)\n",
        "\n",
        "tf.config.experimental.set_memory_growth(physical_devices[0], True) "
      ],
      "execution_count": 0,
      "outputs": []
    },
    {
      "cell_type": "markdown",
      "metadata": {
        "colab_type": "text",
        "id": "7KmSFXs5tAXI"
      },
      "source": [
        "# Part 3: Hardware\n",
        "\n",
        "In deep learning, the computer hardware is very important. You should always know what kind of hardware you are working on.\n",
        "\n",
        "Question 1: What graphics card is available in the cloud machine? Run 'nvidia-smi' in the terminal. \n",
        "\n",
        "Performed on Google Colab\n",
        "\n",
        "Question 2: Google the name of the graphics card, how many CUDA cores does it have?\n",
        "\n",
        "Graphic Card Name : Tesla K80 GPU with 4992 CUDA cores\n",
        "\n",
        "Question 3: How much memory does the graphics card have?\n",
        "\n",
        "12 GB DDR5 \n",
        "\n",
        "Question 4: What is stored in the GPU memory while training a DNN ?\n",
        "\n",
        "GPU Memory stores the data which is going to be trained, parameters of the model,gradients of the parameters and intermediate output. \n",
        "\n",
        "Question 5: What CPU is available in the cloud machine? How many cores does it have? Run 'lscpu' in the terminal.\n",
        "\n",
        "CPU : Intel(R) Xeon(R) CPU @ 2.00GHz\n",
        "Core : 1 \n",
        "\n",
        "\n",
        "Question 6: How much CPU memory (RAM) is available in the cloud machine? Run 'free -g' in the terminal.\n",
        "\n",
        "10 GB\n"
      ]
    },
    {
      "cell_type": "markdown",
      "metadata": {
        "colab_type": "text",
        "id": "90udr2RRtAXJ"
      },
      "source": [
        "# Part 4: Load the data\n",
        "\n",
        "Load the dataset from the csv files, it will take some time since it is almost 1.4 GB. \n",
        "\n",
        "We will use the function `genfromtxt` to load the data.\n",
        "\n",
        "https://docs.scipy.org/doc/numpy/reference/generated/numpy.genfromtxt.html\n",
        "\n",
        "Load the data from csv files the first time, then save the data as numpy files for faster loading the next time.\n",
        "\n",
        "\n"
      ]
    },
    {
      "cell_type": "code",
      "metadata": {
        "colab_type": "code",
        "id": "wjbtfBZHtAXK",
        "colab": {}
      },
      "source": [
        "from numpy import genfromtxt\n",
        "import numpy as np\n",
        "\n",
        "# Load data from file\n",
        "# X = covariates, Y = labels\n",
        "X = np.genfromtxt(fname = \"Mirai_dataset.csv\" , delimiter = \",\")\n",
        "Y = np.genfromtxt(\"mirai_labels.csv\", delimiter = \",\")\n",
        "\n",
        "# Save data as numpy arrays, for faster loading in future calls to this cell\n",
        "np.save('Mirai_data.npy', X)\n",
        "np.save('mirai_labels.npy', Y)\n",
        "\n",
        "# Load data from numpy arrays, for faster loading\n",
        "X = np.load('Mirai_data.npy')\n",
        "Y = np.load('mirai_labels.npy')\n",
        "   "
      ],
      "execution_count": 0,
      "outputs": []
    },
    {
      "cell_type": "code",
      "metadata": {
        "colab_type": "code",
        "id": "6sV_2D9iJX0D",
        "colab": {}
      },
      "source": [
        "# Load data from numpy arrays, for faster loading\n",
        "import numpy as np\n",
        "X = np.load('Mirai_data.npy')\n",
        "Y = np.load('mirai_labels.npy')"
      ],
      "execution_count": 0,
      "outputs": []
    },
    {
      "cell_type": "code",
      "metadata": {
        "colab_type": "code",
        "id": "jPAfRm1XrudE",
        "colab": {
          "base_uri": "https://localhost:8080/",
          "height": 34
        },
        "outputId": "3438cf9f-7f98-4cb4-92ac-67f528296e4f"
      },
      "source": [
        "X.shape"
      ],
      "execution_count": 11,
      "outputs": [
        {
          "output_type": "execute_result",
          "data": {
            "text/plain": [
              "(764137, 116)"
            ]
          },
          "metadata": {
            "tags": []
          },
          "execution_count": 11
        }
      ]
    },
    {
      "cell_type": "code",
      "metadata": {
        "colab_type": "code",
        "id": "oArDpufgmKO3",
        "outputId": "842c8e55-de74-4f5f-f939-ff9545ef45c4",
        "colab": {
          "base_uri": "https://localhost:8080/",
          "height": 51
        }
      },
      "source": [
        "# Remove the first 24 covariates\n",
        "\n",
        "X = X[ : ,24:]\n",
        "\n",
        "print('The covariates have size {}.'.format(X.shape))\n",
        "print('The labels have size {}.'.format(Y.shape))\n",
        "\n",
        "# Print the number of examples of each class\n",
        "\n",
        "#print(X[1:10,])"
      ],
      "execution_count": 12,
      "outputs": [
        {
          "output_type": "stream",
          "text": [
            "The covariates have size (764137, 92).\n",
            "The labels have size (764137,).\n"
          ],
          "name": "stdout"
        }
      ]
    },
    {
      "cell_type": "markdown",
      "metadata": {
        "colab_type": "text",
        "id": "LKLDBuuDtAXR"
      },
      "source": [
        "# Part 5: How good is a naive classifier?\n",
        "\n",
        "Question 7: Given the distribution of examples, how high classification performance can a naive classifier obtain? The naive classifier will assume that all examples belong to one class. Note: you do not need to make a naive classifier, this is a theoretical question, just to understand how good performance we can obtain by random chance."
      ]
    },
    {
      "cell_type": "markdown",
      "metadata": {
        "id": "eFXy7yj2a8WE",
        "colab_type": "text"
      },
      "source": [
        "If there are 1000 samples in a dataset and one class data consists of 500 records and model has been trained on this data then for one class the classification performance will be 50%."
      ]
    },
    {
      "cell_type": "code",
      "metadata": {
        "colab_type": "code",
        "id": "sIphJiGMsfeA",
        "colab": {}
      },
      "source": [
        "#X[X == \"nan\"]"
      ],
      "execution_count": 0,
      "outputs": []
    },
    {
      "cell_type": "code",
      "metadata": {
        "colab_type": "code",
        "id": "Jj7vzHtwtAXS",
        "outputId": "0f40ddb7-dfca-4dc4-eafc-b17f215708b0",
        "colab": {
          "base_uri": "https://localhost:8080/",
          "height": 51
        }
      },
      "source": [
        "# It is common to have NaNs in the data, lets check for it. Hint: np.isnan()\n",
        "nanCheckY = np.isnan(Y)\n",
        "nanCheckX = np.isnan(X)\n",
        "\n",
        "# Print the number of NaNs (not a number) in the labels\n",
        "print(\"Total nan in labels \"+str(len(nanCheckY[nanCheckY == True])))\n",
        "\n",
        "# Print the number of NaNs in the covariates\n",
        "print(\"Total nan in covariates \"+str(len(nanCheckX[nanCheckX == True])))\n"
      ],
      "execution_count": 14,
      "outputs": [
        {
          "output_type": "stream",
          "text": [
            "Total nan in labels 0\n",
            "Total nan in covariates 0\n"
          ],
          "name": "stdout"
        }
      ]
    },
    {
      "cell_type": "markdown",
      "metadata": {
        "colab_type": "text",
        "id": "zO01YS4ktAXX"
      },
      "source": [
        "# Part 6: Preprocessing\n",
        "\n",
        "Lets do some simple preprocessing"
      ]
    },
    {
      "cell_type": "code",
      "metadata": {
        "colab_type": "code",
        "id": "o4bGI6uYtAXY",
        "colab": {}
      },
      "source": [
        "# Convert covariates to floats\n",
        "X.astype(float)\n",
        "\n",
        "# Convert labels to ints\n",
        "Y.astype(int)\n",
        "\n",
        "# Remove mean of each covariate (column)\n",
        "XMean = np.mean(X , axis = 0)\n",
        "\n"
      ],
      "execution_count": 0,
      "outputs": []
    },
    {
      "cell_type": "code",
      "metadata": {
        "colab_type": "code",
        "id": "s5NIaFG0lKN-",
        "outputId": "92049028-fd73-4f6a-e4f4-221faad2db46",
        "colab": {
          "base_uri": "https://localhost:8080/",
          "height": 34
        }
      },
      "source": [
        "XMean[0]"
      ],
      "execution_count": 16,
      "outputs": [
        {
          "output_type": "execute_result",
          "data": {
            "text/plain": [
              "143.84970417901397"
            ]
          },
          "metadata": {
            "tags": []
          },
          "execution_count": 16
        }
      ]
    },
    {
      "cell_type": "code",
      "metadata": {
        "colab_type": "code",
        "id": "66UndvpYeb4j",
        "colab": {}
      },
      "source": [
        "for i in range(0, len(XMean)):\n",
        "  X[ : , i] = X[ : , i] - XMean[i]\n",
        "  \n",
        "# Divide each covariate (column) by its standard deviation\n",
        "\n",
        "Xstd = np.std(X , axis = 0)\n",
        "\n",
        "for i in range(0, len(Xstd)):\n",
        "  X[ : , i] = X[ : , i] / Xstd[i]\n",
        "\n",
        "# Check that mean is 0 and standard deviation is 1 for all covariates, by printing mean and std\n"
      ],
      "execution_count": 0,
      "outputs": []
    },
    {
      "cell_type": "code",
      "metadata": {
        "colab_type": "code",
        "id": "tzXr9ORJecog",
        "colab": {}
      },
      "source": [
        "newMean = np.abs(np.around(np.mean(X , axis=0) , decimals= 4))\n",
        "newSD = np.around(np.std(X , axis= 0 ) , decimals= 1)"
      ],
      "execution_count": 0,
      "outputs": []
    },
    {
      "cell_type": "code",
      "metadata": {
        "colab_type": "code",
        "id": "33FyVokHXOQ6",
        "outputId": "42cca371-ed4d-45bb-acfb-298b8c15b6b5",
        "colab": {
          "base_uri": "https://localhost:8080/",
          "height": 119
        }
      },
      "source": [
        "newMean"
      ],
      "execution_count": 19,
      "outputs": [
        {
          "output_type": "execute_result",
          "data": {
            "text/plain": [
              "array([0., 0., 0., 0., 0., 0., 0., 0., 0., 0., 0., 0., 0., 0., 0., 0., 0.,\n",
              "       0., 0., 0., 0., 0., 0., 0., 0., 0., 0., 0., 0., 0., 0., 0., 0., 0.,\n",
              "       0., 0., 0., 0., 0., 0., 0., 0., 0., 0., 0., 0., 0., 0., 0., 0., 0.,\n",
              "       0., 0., 0., 0., 0., 0., 0., 0., 0., 0., 0., 0., 0., 0., 0., 0., 0.,\n",
              "       0., 0., 0., 0., 0., 0., 0., 0., 0., 0., 0., 0., 0., 0., 0., 0., 0.,\n",
              "       0., 0., 0., 0., 0., 0., 0.])"
            ]
          },
          "metadata": {
            "tags": []
          },
          "execution_count": 19
        }
      ]
    },
    {
      "cell_type": "code",
      "metadata": {
        "colab_type": "code",
        "id": "qb1AIkDTnarH",
        "outputId": "546d2781-8ced-4c76-aaca-8ae5bc7d2ea7",
        "colab": {
          "base_uri": "https://localhost:8080/",
          "height": 119
        }
      },
      "source": [
        "newSD"
      ],
      "execution_count": 20,
      "outputs": [
        {
          "output_type": "execute_result",
          "data": {
            "text/plain": [
              "array([1., 1., 1., 1., 1., 1., 1., 1., 1., 1., 1., 1., 1., 1., 1., 1., 1.,\n",
              "       1., 1., 1., 1., 1., 1., 1., 1., 1., 1., 1., 1., 1., 1., 1., 1., 1.,\n",
              "       1., 1., 1., 1., 1., 1., 1., 1., 1., 1., 1., 1., 1., 1., 1., 1., 1.,\n",
              "       1., 1., 1., 1., 1., 1., 1., 1., 1., 1., 1., 1., 1., 1., 1., 1., 1.,\n",
              "       1., 1., 1., 1., 1., 1., 1., 1., 1., 1., 1., 1., 1., 1., 1., 1., 1.,\n",
              "       1., 1., 1., 1., 1., 1., 1.])"
            ]
          },
          "metadata": {
            "tags": []
          },
          "execution_count": 20
        }
      ]
    },
    {
      "cell_type": "code",
      "metadata": {
        "colab_type": "code",
        "id": "Q6YxRFoYUevn",
        "outputId": "298279c3-b19a-4654-d051-c87086d05d10",
        "colab": {
          "base_uri": "https://localhost:8080/",
          "height": 34
        }
      },
      "source": [
        "X.shape"
      ],
      "execution_count": 21,
      "outputs": [
        {
          "output_type": "execute_result",
          "data": {
            "text/plain": [
              "(764137, 92)"
            ]
          },
          "metadata": {
            "tags": []
          },
          "execution_count": 21
        }
      ]
    },
    {
      "cell_type": "markdown",
      "metadata": {
        "colab_type": "text",
        "id": "G6su6lxYtAXd"
      },
      "source": [
        "# Part 7: Split the dataset\n",
        "\n",
        "Use the first 70% of the dataset for training, leave the other 30% for validation and test, call the variables\n",
        "\n",
        "Xtrain (70%)\n",
        "\n",
        "Xtemp  (30%)\n",
        "\n",
        "Ytrain (70%)\n",
        "\n",
        "Ytemp  (30%)\n"
      ]
    },
    {
      "cell_type": "code",
      "metadata": {
        "colab_type": "code",
        "id": "fTFc7Q4BoP5_",
        "colab": {}
      },
      "source": [
        "nTrain = round(X.shape[0] * .7)"
      ],
      "execution_count": 0,
      "outputs": []
    },
    {
      "cell_type": "code",
      "metadata": {
        "colab_type": "code",
        "id": "W7botlI8odeJ",
        "outputId": "57a77e3b-874d-474c-ad62-18cc7a2aa0c0",
        "colab": {
          "base_uri": "https://localhost:8080/",
          "height": 34
        }
      },
      "source": [
        "X.shape"
      ],
      "execution_count": 23,
      "outputs": [
        {
          "output_type": "execute_result",
          "data": {
            "text/plain": [
              "(764137, 92)"
            ]
          },
          "metadata": {
            "tags": []
          },
          "execution_count": 23
        }
      ]
    },
    {
      "cell_type": "code",
      "metadata": {
        "colab_type": "code",
        "id": "eZnf-1jNtAXe",
        "outputId": "1d33b8f5-a156-4537-c659-be907161e1b1",
        "colab": {
          "base_uri": "https://localhost:8080/",
          "height": 85
        }
      },
      "source": [
        "# Your code\n",
        "Xtrain = X[0:nTrain , :]\n",
        "Xtemp = X[(nTrain+1) : , :]\n",
        "\n",
        "Ytrain = Y[0:nTrain]\n",
        "Ytemp = Y[(nTrain+1) :]\n",
        "\n",
        "print('Xtrain has size {}.'.format(Xtrain.shape))\n",
        "print('Ytrain has size {}.'.format(Ytrain.shape))\n",
        "\n",
        "print('Xtemp has size {}.'.format(Xtemp.shape))\n",
        "print('Ytemp has size {}.'.format(Ytemp.shape))\n",
        "\n",
        "\n"
      ],
      "execution_count": 24,
      "outputs": [
        {
          "output_type": "stream",
          "text": [
            "Xtrain has size (534896, 92).\n",
            "Ytrain has size (534896,).\n",
            "Xtemp has size (229240, 92).\n",
            "Ytemp has size (229240,).\n"
          ],
          "name": "stdout"
        }
      ]
    },
    {
      "cell_type": "code",
      "metadata": {
        "colab_type": "code",
        "id": "xY2AEethqCQM",
        "outputId": "82a57cb6-fff7-41e6-b577-34b3ec53ba1a",
        "colab": {
          "base_uri": "https://localhost:8080/",
          "height": 85
        }
      },
      "source": [
        "# Print the number of examples of each class, for the training data and the remaining 30%\n",
        "\n",
        "for i in range(0,len(np.unique(Ytrain))):\n",
        "    print(\"Number of training examples for class {} is {}\" .format(i,np.sum(Ytrain == i)))\n",
        "    print(\"Number of validation examples for class {} is {}\" .format(i,np.sum(Ytemp == i)))"
      ],
      "execution_count": 25,
      "outputs": [
        {
          "output_type": "stream",
          "text": [
            "Number of training examples for class 0 is 121621\n",
            "Number of validation examples for class 0 is 0\n",
            "Number of training examples for class 1 is 413275\n",
            "Number of validation examples for class 1 is 229240\n"
          ],
          "name": "stdout"
        }
      ]
    },
    {
      "cell_type": "markdown",
      "metadata": {
        "colab_type": "text",
        "id": "NQBCwVUEtAXj"
      },
      "source": [
        "# Part 8: Number of examples per class\n",
        "\n",
        "Question 8: Can we use the dataset as it is? Why not?\n",
        "\n",
        "Lets randomly shuffle the data, to get some examples of each class in training data and in the remaining 30%. Use the function `shuffle` in scikit learn\n",
        "\n",
        "https://scikit-learn.org/stable/modules/generated/sklearn.utils.shuffle.html"
      ]
    },
    {
      "cell_type": "markdown",
      "metadata": {
        "colab_type": "text",
        "id": "P6uDSDNzqxHT"
      },
      "source": [
        "We can not use same data as training need to cover complete possible nature of data while unshuffled data might not be able to cover that. \n"
      ]
    },
    {
      "cell_type": "code",
      "metadata": {
        "colab_type": "code",
        "id": "g-Y4c8gttAXk",
        "outputId": "402f0e3c-28e5-4f2b-d8c8-d6e30064f3cc",
        "colab": {
          "base_uri": "https://localhost:8080/",
          "height": 918
        }
      },
      "source": [
        "from sklearn.utils import shuffle\n",
        "\n",
        "# Randomly shuffle data, to get both classes in training and testing\n",
        "XShuffled , YShuffled = shuffle(X , Y , random_state = 0)\n",
        "\n",
        "# Divide the data into training and validation/test again\n",
        "Xtrain = XShuffled[0:nTrain , :]\n",
        "Xtemp = XShuffled[(nTrain+1) : , :]\n",
        "\n",
        "Ytrain = YShuffled[0:nTrain]\n",
        "Ytemp = YShuffled[(nTrain+1) :]\n",
        "\n",
        "print('Xtrain has size {}.'.format(Xtrain.shape))\n",
        "print('Ytrain has size {}.'.format(Ytrain.shape))\n",
        "\n",
        "print('Xtemp has size {}.'.format(Xtemp.shape))\n",
        "print('Ytemp has size {}.'.format(Ytemp.shape))\n",
        "\n",
        "# Print the number of examples of each class, for the training data and the remaining 30%\n",
        "\n",
        "print(Xtrain[0:1 , :])\n",
        "print(Ytrain[0:1])\n",
        "\n",
        "print(\"test data\")\n",
        "print(Xtemp[0:1 , :])\n",
        "print(Ytemp[0:1])\n",
        "\n"
      ],
      "execution_count": 26,
      "outputs": [
        {
          "output_type": "stream",
          "text": [
            "Xtrain has size (534896, 92).\n",
            "Ytrain has size (534896,).\n",
            "Xtemp has size (229240, 92).\n",
            "Ytemp has size (229240,).\n",
            "[[-8.77664822e-02  6.30481424e-01 -4.50531913e-01 -1.71454092e-01\n",
            "   7.14065482e-01 -4.60324659e-01 -2.13068153e-01 -2.16138179e-01\n",
            "  -3.23979539e-01 -1.81131783e-01 -4.00504624e-01 -2.19991906e-02\n",
            "  -2.32010868e-02 -4.72374129e-02 -2.96060509e-01 -3.25232006e-01\n",
            "  -2.09734584e-01 -4.01746566e-01 -2.72671940e-02 -3.22351108e-02\n",
            "  -7.36250544e-02 -2.54863387e-01 -3.28327853e-01 -2.56810826e-01\n",
            "  -4.05537676e-01 -4.07783408e-02 -6.46380722e-02 -1.25430254e-01\n",
            "   8.01237927e-02 -3.30051596e-01 -3.39951689e-01 -4.08619016e-01\n",
            "  -5.72305998e-02 -1.61069367e-01 -1.96777880e-01  2.56061475e-01\n",
            "  -3.28292426e-01 -3.43749328e-01 -4.07589072e-01 -5.02286258e-02\n",
            "  -2.22689854e-01 -2.36792137e-01 -2.16138179e-01 -2.41812747e-02\n",
            "  -1.57962912e-02 -2.96060509e-01 -2.57839499e-02 -2.30898139e-02\n",
            "  -2.54863387e-01 -3.22489600e-02 -3.59076403e-02  8.01237927e-02\n",
            "  -5.32304384e-02 -7.53219640e-02  2.56061475e-01 -8.09065385e-02\n",
            "  -1.32542571e-01  6.32160473e-01 -3.23445230e-01 -7.53364830e-02\n",
            "  -3.78788372e-01 -3.77607723e-02 -1.65826958e-05  8.04955626e-03\n",
            "   5.51331011e-01 -3.23534630e-01 -7.65737068e-02 -3.78762425e-01\n",
            "  -3.88359626e-02 -3.84093824e-04  6.84275309e-03  5.56662367e-01\n",
            "  -3.23624391e-01 -9.22039462e-02 -3.78603841e-01 -4.27065377e-02\n",
            "  -1.35941117e-03  4.63966396e-03  6.61210427e-01 -3.23888577e-01\n",
            "  -1.08249511e-01 -3.77201558e-01 -5.92174778e-02  7.48851020e-04\n",
            "   6.67040537e-03  7.41869780e-01 -3.22200235e-01 -1.12232153e-01\n",
            "  -3.75595335e-01 -5.89723051e-02 -7.34254337e-03 -9.80573220e-03]]\n",
            "[1.]\n",
            "test data\n",
            "[[-8.74780730e-02  6.00755757e-01 -4.50510681e-01 -1.71506711e-01\n",
            "   6.99864880e-01 -4.60836598e-01 -2.13643709e-01 -1.49959172e-01\n",
            "  -3.23979539e-01 -1.81131893e-01 -4.00504624e-01 -2.19991906e-02\n",
            "  -2.32010868e-02 -4.72374129e-02 -1.37419437e-01 -3.25232006e-01\n",
            "  -2.09734355e-01 -4.01746566e-01 -2.72671940e-02 -3.22351108e-02\n",
            "  -7.36250544e-02 -4.56991399e-02 -3.28327853e-01 -2.56811085e-01\n",
            "  -4.05537676e-01 -4.07783408e-02 -6.46380722e-02 -1.25430254e-01\n",
            "   1.72818370e-01 -3.30051596e-01 -3.39951689e-01 -4.08619016e-01\n",
            "  -5.72305998e-02 -1.61069367e-01 -1.96777880e-01  2.47484004e-01\n",
            "  -3.28292426e-01 -3.43749271e-01 -4.07589072e-01 -5.02286258e-02\n",
            "  -2.22689854e-01 -2.36792137e-01 -1.49959172e-01 -2.41812842e-02\n",
            "  -1.57962912e-02 -1.37419437e-01 -2.57839580e-02 -2.30898139e-02\n",
            "  -4.56991399e-02 -3.22489634e-02 -3.59076403e-02  1.72818370e-01\n",
            "  -5.32304391e-02 -7.53219640e-02  2.47484004e-01 -8.02994994e-02\n",
            "  -1.31029969e-01  4.18926364e-01 -3.23445230e-01 -7.53357283e-02\n",
            "  -3.78788372e-01 -3.77607723e-02 -1.65826958e-05  8.04955626e-03\n",
            "   3.78466832e-01 -3.23534630e-01 -7.65733322e-02 -3.78762425e-01\n",
            "  -3.88359626e-02 -3.84093824e-04  6.84275309e-03  4.52015707e-01\n",
            "  -3.23624391e-01 -9.22052488e-02 -3.78603841e-01 -4.27065377e-02\n",
            "  -1.35941117e-03  4.63966396e-03  6.30510087e-01 -3.23888577e-01\n",
            "  -1.08249686e-01 -3.77201558e-01 -5.92174778e-02  7.48851020e-04\n",
            "   6.67040537e-03  7.27598586e-01 -3.22200235e-01 -1.12232292e-01\n",
            "  -3.75595335e-01 -5.89723051e-02 -7.34254337e-03 -9.80573220e-03]]\n",
            "[1.]\n"
          ],
          "name": "stdout"
        }
      ]
    },
    {
      "cell_type": "markdown",
      "metadata": {
        "colab_type": "text",
        "id": "QS5O3Vu3tAXo"
      },
      "source": [
        "#  Part 9: Split non-training data data into validation and test\n",
        "Split your non-training data (Xtemp, Ytemp) into 50% validation (Xval, Yval) and 50% testing (Xtest, Ytest), we use a function from scikit learn. \n",
        "\n",
        "https://scikit-learn.org/stable/modules/generated/sklearn.model_selection.train_test_split.html\n"
      ]
    },
    {
      "cell_type": "code",
      "metadata": {
        "colab_type": "code",
        "id": "gLVArlT_tAXp",
        "outputId": "1d7be2dc-3a74-4fd2-d4cb-6aedac1c219d",
        "colab": {
          "base_uri": "https://localhost:8080/",
          "height": 34
        }
      },
      "source": [
        "from sklearn.model_selection import train_test_split\n",
        "\n",
        "Xval , Xtest , Yval , Ytest  = train_test_split(Xtemp , Ytemp , test_size = .5 , random_state = 42)\n",
        "\n",
        "\n",
        "print('The validation and test data have size {}, {}, {} and {}'.format(Xval.shape, Xtest.shape, Yval.shape, Ytest.shape))"
      ],
      "execution_count": 27,
      "outputs": [
        {
          "output_type": "stream",
          "text": [
            "The validation and test data have size (114620, 92), (114620, 92), (114620,) and (114620,)\n"
          ],
          "name": "stdout"
        }
      ]
    },
    {
      "cell_type": "markdown",
      "metadata": {
        "colab_type": "text",
        "id": "3SQ0ABnhtAXu"
      },
      "source": [
        "# Part 10: DNN classification\n",
        "\n",
        "Finish this code to create a first version of the classifier using a DNN. Start with a simple network with 2 dense layers (with 20 nodes each), using sigmoid activation functions. The final dense layer should have a single node and a sigmoid activation function. We start with the SGD optimizer.\n",
        "\n",
        "Relevant functions are\n",
        "\n",
        "`model.add()`, adds a layer to the network\n",
        "\n",
        "`Dense()`, a dense network layer\n",
        "\n",
        "`model.compile()`, compile the model, add \" metrics=['accuracy'] \" to print the classification accuracy during the training\n",
        "\n",
        "`model.fit()`, train the model with some training data\n",
        "\n",
        "`model.evaluate()`, apply the trained model to some test data\n",
        "\n",
        "See https://keras.io/layers/core/ for information on how the `Dense()` function works\n",
        "\n",
        "Import a relevant cost / loss function for binary classification from keras.losses (https://keras.io/losses/)\n",
        "\n",
        "See https://keras.io/models/model/ for how to compile, train and evaluate the model"
      ]
    },
    {
      "cell_type": "code",
      "metadata": {
        "colab_type": "code",
        "id": "aJhr3DmPSPKG",
        "colab": {}
      },
      "source": [
        "#"
      ],
      "execution_count": 0,
      "outputs": []
    },
    {
      "cell_type": "code",
      "metadata": {
        "colab_type": "code",
        "id": "_HL3nHgttAXv",
        "colab": {}
      },
      "source": [
        "#from tensorflow import keras\n",
        "from keras.models import Sequential, Model\n",
        "from keras.layers import Input, Dense\n",
        "from keras.optimizers import SGD,Adam\n",
        "from keras.losses import binary_crossentropy\n",
        "from keras.layers import BatchNormalization\n",
        "from keras.layers import Dropout\n",
        "#from tensorflow.keras.models import Sequential \n",
        "\n",
        "# Set seed from random number generator, for better comparisons\n",
        "from numpy.random import seed\n",
        "seed(123)\n",
        "def build_DNN(input_shape, n_layers, n_nodes, act_fun='sigmoid', optimizer='sgd', learning_rate=0.01, use_bn=False, use_dropout=False, use_custom_dropout=False , dRate = 0):\n",
        "    \n",
        "    # Setup optimizer, depending on input parameter string\n",
        "    if optimizer == \"sgd\":\n",
        "      optimized = SGD(lr=learning_rate)\n",
        "    elif optimizer == 'Adam':\n",
        "      optimized = Adam(lr=learning_rate,beta_1=0.9,beta_2=0.999,amsgrad=False)\n",
        "    \n",
        "\n",
        "    # Setup a sequential model\n",
        "    #model = tf.keras.Sequential()\n",
        "    model = Sequential()\n",
        "    # Add layers to the model, using the input parameters of the build_DNN function\n",
        "    model.add(Dense(n_nodes,kernel_initializer='uniform',input_shape=(input_shape[1],),activation=act_fun))\n",
        "    if use_dropout == True:\n",
        "      model.add(Dropout(rate = dRate))\n",
        "    if use_bn == True:\n",
        "      BatchNormalization(axis=1, momentum=0.99, epsilon=0.001, center=True, scale=True, beta_initializer='zeros', gamma_initializer='ones', moving_mean_initializer='zeros', moving_variance_initializer='ones', beta_regularizer=None, gamma_regularizer=None, beta_constraint=None, gamma_constraint=None)\n",
        "    if use_custom_dropout == True:\n",
        "      model.add(myDropout(dRate))\n",
        "    # Add first layer, requires input shape\n",
        "    \n",
        "    # Add remaining layers, do not require input shape\n",
        "    for i in range(n_layers-1):\n",
        "        model.add(Dense(n_nodes,kernel_initializer='uniform',activation=act_fun))           \n",
        "        if use_bn == True:\n",
        "          BatchNormalization(axis=1, momentum=0.99, epsilon=0.001, center=True, scale=True, beta_initializer='zeros', gamma_initializer='ones', moving_mean_initializer='zeros', moving_variance_initializer='ones', beta_regularizer=None, gamma_regularizer=None, beta_constraint=None, gamma_constraint=None)\n",
        "        if use_dropout == True:\n",
        "          model.add(Dropout(rate = dRate))\n",
        "        if use_custom_dropout == True:\n",
        "          model.add(myDropout(dRate))      \n",
        "\n",
        "    # Final layer\n",
        "    model.add(Dense(1,activation='sigmoid'))\n",
        "\n",
        "    \n",
        "    # Compile model\n",
        "    model.compile(optimizer=optimized,loss= \"binary_crossentropy\",metrics=['accuracy'])\n",
        "    \n",
        "    return model"
      ],
      "execution_count": 0,
      "outputs": []
    },
    {
      "cell_type": "code",
      "metadata": {
        "colab_type": "code",
        "id": "Ax7v7aQetAXz",
        "colab": {}
      },
      "source": [
        "# Lets define a help function for plotting the training results\n",
        "\n",
        "# IMPORTANT NOTE\n",
        "# The history unfortunately behaves a bit randomly for every user\n",
        "# If the plots for accuracy and loss look mixed, change the order of\n",
        "# val_loss, val_acc, loss, acc\n",
        "# until the plots look as they \"should\"\n",
        "\n",
        "import matplotlib.pyplot as plt\n",
        "def plot_results(history):\n",
        "    val_loss, val_acc, loss, acc = history.history.values()\n",
        "\n",
        "    plt.figure(figsize=(10,4))\n",
        "    plt.xlabel('Epochs')\n",
        "    plt.ylabel('Loss')\n",
        "    plt.plot(loss)\n",
        "    plt.plot(val_loss)\n",
        "    plt.legend(['Training','Validation'])\n",
        "\n",
        "    plt.figure(figsize=(10,4))\n",
        "    plt.xlabel('Epochs')\n",
        "    plt.ylabel('Accuracy')\n",
        "    plt.plot(acc)\n",
        "    plt.plot(val_acc)\n",
        "    plt.legend(['Training','Validation'])\n",
        "\n",
        "    plt.show()"
      ],
      "execution_count": 0,
      "outputs": []
    },
    {
      "cell_type": "markdown",
      "metadata": {
        "colab_type": "text",
        "id": "FPh4D0-btAX6"
      },
      "source": [
        "# Part 11: Train the DNN\n",
        "\n",
        "Time to train the DNN, we start simple with 2 layers with 2 nodes each, learning rate 0.1."
      ]
    },
    {
      "cell_type": "markdown",
      "metadata": {
        "colab_type": "text",
        "id": "GjOQa9GGtAX7"
      },
      "source": [
        "### 2 layers, 20 nodes"
      ]
    },
    {
      "cell_type": "code",
      "metadata": {
        "colab_type": "code",
        "id": "VNpdqhittAX9",
        "outputId": "d34153c9-6f85-4d64-dce1-64de0990ac51",
        "scrolled": true,
        "colab": {
          "base_uri": "https://localhost:8080/",
          "height": 714
        }
      },
      "source": [
        "# Setup some training parameters\n",
        "batch_size = 10000\n",
        "epochs = 20\n",
        "input_shape = Xtrain.shape\n",
        "\n",
        "# Build the model\n",
        "model1 = build_DNN(input_shape=input_shape,n_layers=2,n_nodes=20,act_fun='sigmoid',optimizer='sgd', learning_rate=0.1)\n",
        "\n",
        "# Train the model, provide training data and validation data\n",
        "history1 = model1.fit(Xtrain,Ytrain,epochs=epochs,validation_data=(Xval,Yval),batch_size=batch_size)"
      ],
      "execution_count": 31,
      "outputs": [
        {
          "output_type": "stream",
          "text": [
            "Train on 534896 samples, validate on 114620 samples\n",
            "Epoch 1/20\n",
            "534896/534896 [==============================] - 2s 4us/step - loss: 0.4561 - accuracy: 0.8284 - val_loss: 0.4377 - val_accuracy: 0.8394\n",
            "Epoch 2/20\n",
            "534896/534896 [==============================] - 1s 1us/step - loss: 0.4325 - accuracy: 0.8411 - val_loss: 0.4321 - val_accuracy: 0.8394\n",
            "Epoch 3/20\n",
            "534896/534896 [==============================] - 1s 1us/step - loss: 0.4245 - accuracy: 0.8411 - val_loss: 0.4210 - val_accuracy: 0.8394\n",
            "Epoch 4/20\n",
            "534896/534896 [==============================] - 1s 1us/step - loss: 0.4094 - accuracy: 0.8411 - val_loss: 0.4012 - val_accuracy: 0.8394\n",
            "Epoch 5/20\n",
            "534896/534896 [==============================] - 1s 1us/step - loss: 0.3842 - accuracy: 0.8411 - val_loss: 0.3699 - val_accuracy: 0.8394\n",
            "Epoch 6/20\n",
            "534896/534896 [==============================] - 1s 1us/step - loss: 0.3478 - accuracy: 0.8411 - val_loss: 0.3283 - val_accuracy: 0.8394\n",
            "Epoch 7/20\n",
            "534896/534896 [==============================] - 1s 1us/step - loss: 0.3042 - accuracy: 0.8411 - val_loss: 0.2841 - val_accuracy: 0.8394\n",
            "Epoch 8/20\n",
            "534896/534896 [==============================] - 1s 1us/step - loss: 0.2633 - accuracy: 0.8436 - val_loss: 0.2480 - val_accuracy: 0.8544\n",
            "Epoch 9/20\n",
            "534896/534896 [==============================] - 1s 1us/step - loss: 0.2335 - accuracy: 0.8602 - val_loss: 0.2244 - val_accuracy: 0.8670\n",
            "Epoch 10/20\n",
            "534896/534896 [==============================] - 1s 1us/step - loss: 0.2150 - accuracy: 0.8784 - val_loss: 0.2103 - val_accuracy: 0.8837\n",
            "Epoch 11/20\n",
            "534896/534896 [==============================] - 1s 1us/step - loss: 0.2039 - accuracy: 0.8896 - val_loss: 0.2017 - val_accuracy: 0.8969\n",
            "Epoch 12/20\n",
            "534896/534896 [==============================] - 1s 1us/step - loss: 0.1969 - accuracy: 0.9023 - val_loss: 0.1960 - val_accuracy: 0.9032\n",
            "Epoch 13/20\n",
            "534896/534896 [==============================] - 1s 1us/step - loss: 0.1920 - accuracy: 0.9046 - val_loss: 0.1919 - val_accuracy: 0.9039\n",
            "Epoch 14/20\n",
            "534896/534896 [==============================] - 1s 1us/step - loss: 0.1885 - accuracy: 0.9053 - val_loss: 0.1888 - val_accuracy: 0.9048\n",
            "Epoch 15/20\n",
            "534896/534896 [==============================] - 1s 1us/step - loss: 0.1856 - accuracy: 0.9062 - val_loss: 0.1862 - val_accuracy: 0.9058\n",
            "Epoch 16/20\n",
            "534896/534896 [==============================] - 1s 1us/step - loss: 0.1833 - accuracy: 0.9070 - val_loss: 0.1840 - val_accuracy: 0.9065\n",
            "Epoch 17/20\n",
            "534896/534896 [==============================] - 1s 1us/step - loss: 0.1813 - accuracy: 0.9074 - val_loss: 0.1822 - val_accuracy: 0.9068\n",
            "Epoch 18/20\n",
            "534896/534896 [==============================] - 1s 1us/step - loss: 0.1796 - accuracy: 0.9076 - val_loss: 0.1805 - val_accuracy: 0.9071\n",
            "Epoch 19/20\n",
            "534896/534896 [==============================] - 1s 1us/step - loss: 0.1780 - accuracy: 0.9078 - val_loss: 0.1790 - val_accuracy: 0.9071\n",
            "Epoch 20/20\n",
            "534896/534896 [==============================] - 1s 1us/step - loss: 0.1767 - accuracy: 0.9080 - val_loss: 0.1777 - val_accuracy: 0.9073\n"
          ],
          "name": "stdout"
        }
      ]
    },
    {
      "cell_type": "code",
      "metadata": {
        "colab_type": "code",
        "id": "2ZfKgi9StAYC",
        "outputId": "a0bcd83d-8e28-49ec-831a-2bd8bc3b78fc",
        "colab": {
          "base_uri": "https://localhost:8080/",
          "height": 68
        }
      },
      "source": [
        "# Evaluate the model on the test data\n",
        "#pred = model1.predict(Xtest)\n",
        "#score = \n",
        "score = model1.evaluate(Xtest , Ytest)\n",
        "print('Test loss: %.4f' % score[0])\n",
        "print('Test accuracy: %.4f' % score[1])"
      ],
      "execution_count": 32,
      "outputs": [
        {
          "output_type": "stream",
          "text": [
            "114620/114620 [==============================] - 5s 48us/step\n",
            "Test loss: 0.1740\n",
            "Test accuracy: 0.9099\n"
          ],
          "name": "stdout"
        }
      ]
    },
    {
      "cell_type": "code",
      "metadata": {
        "colab_type": "code",
        "id": "nTn8X9fZtAYF",
        "outputId": "51cccb87-f5a6-4a97-ea94-63af6bb1a3a5",
        "colab": {
          "base_uri": "https://localhost:8080/",
          "height": 541
        }
      },
      "source": [
        "## Plot the history from the training run\n",
        "plot_results(history1)"
      ],
      "execution_count": 33,
      "outputs": [
        {
          "output_type": "display_data",
          "data": {
            "image/png": "[encoded data removed]",
            "text/plain": [
              "<Figure size 720x288 with 1 Axes>"
            ]
          },
          "metadata": {
            "tags": [],
            "needs_background": "light"
          }
        },
        {
          "output_type": "display_data",
          "data": {
            "image/png": "[encoded data removed]",
            "text/plain": [
              "<Figure size 720x288 with 1 Axes>"
            ]
          },
          "metadata": {
            "tags": [],
            "needs_background": "light"
          }
        }
      ]
    },
    {
      "cell_type": "markdown",
      "metadata": {
        "colab_type": "text",
        "id": "B4FsMldmtAYI"
      },
      "source": [
        "# Part 12: More questions\n",
        "\n",
        "Question 9: What happens if you add several Dense layers without specifying the activation function?\n",
        "\n",
        "Question 10: How are the weights in each dense layer initialized as default? How are the bias weights initialized?\n"
      ]
    },
    {
      "cell_type": "markdown",
      "metadata": {
        "id": "2gFe-poya8Zd",
        "colab_type": "text"
      },
      "source": [
        "Answer 9: It will make the model complex and will not make a remarkable impact on the output i have checked by increasing the number of dense layers without activation function in the upper written model and it is reducing the models accuracy as well as also taking the long time to create the model."
      ]
    },
    {
      "cell_type": "markdown",
      "metadata": {
        "id": "y5-m-FC8a8Zd",
        "colab_type": "text"
      },
      "source": [
        "Answer 10: By default weights are initialized in Glorot uniform manner means sampling from uniform distribution occurs within a limit supplied internally and th bias initializers are initialized as zeros."
      ]
    },
    {
      "cell_type": "markdown",
      "metadata": {
        "colab_type": "text",
        "id": "KkPQCExctAYJ"
      },
      "source": [
        "# Part 13: Balancing the classes\n",
        "\n",
        "This dataset is rather unbalanced, we need to define class weights so that the training pays more attention to the class with fewer samples. We use a function in scikit learn\n",
        "\n",
        "https://scikit-learn.org/stable/modules/generated/sklearn.utils.class_weight.compute_class_weight.html"
      ]
    },
    {
      "cell_type": "code",
      "metadata": {
        "colab_type": "code",
        "id": "yzbhOdf_tAYK",
        "outputId": "53f081b2-5b21-467c-8832-99fb4a899c7f",
        "colab": {
          "base_uri": "https://localhost:8080/",
          "height": 34
        }
      },
      "source": [
        "from sklearn.utils import class_weight\n",
        "\n",
        "# Calculate class weights\n",
        "classes = np.unique(Ytrain)\n",
        "weights = {classes[i]:class_weight.compute_class_weight('balanced',classes,Ytrain)[i] for i in range(0,len(classes))}\n",
        "# Print the class weights\n",
        "weights"
      ],
      "execution_count": 34,
      "outputs": [
        {
          "output_type": "execute_result",
          "data": {
            "text/plain": [
              "{0.0: 3.146076932125632, 1.0: 0.59447949035978}"
            ]
          },
          "metadata": {
            "tags": []
          },
          "execution_count": 34
        }
      ]
    },
    {
      "cell_type": "markdown",
      "metadata": {
        "colab_type": "text",
        "id": "d544Sbi_tAYP"
      },
      "source": [
        "### 2 layers, 20 nodes, class weights"
      ]
    },
    {
      "cell_type": "code",
      "metadata": {
        "colab_type": "code",
        "id": "l-QxL6WUtAYQ",
        "outputId": "9a0d998d-bbca-41a0-bfe8-55956241e240",
        "scrolled": true,
        "colab": {
          "base_uri": "https://localhost:8080/",
          "height": 714
        }
      },
      "source": [
        "# Setup some training parameters\n",
        "batch_size = 10000\n",
        "epochs = 20\n",
        "input_shape = Xtrain.shape\n",
        "\n",
        "# Build and train model\n",
        "model2 = build_DNN(input_shape=input_shape,n_layers=2,n_nodes=20,act_fun='sigmoid',optimizer='sgd',learning_rate=0.1)\n",
        "\n",
        "\n",
        "history2 = model2.fit(Xtrain,Ytrain,epochs=epochs,validation_data=(Xval,Yval),class_weight=weights,batch_size=batch_size)"
      ],
      "execution_count": 35,
      "outputs": [
        {
          "output_type": "stream",
          "text": [
            "Train on 534896 samples, validate on 114620 samples\n",
            "Epoch 1/20\n",
            "534896/534896 [==============================] - 1s 2us/step - loss: 0.7116 - accuracy: 0.8599 - val_loss: 0.6836 - val_accuracy: 0.8858\n",
            "Epoch 2/20\n",
            "534896/534896 [==============================] - 1s 1us/step - loss: 0.6714 - accuracy: 0.8799 - val_loss: 0.6557 - val_accuracy: 0.8781\n",
            "Epoch 3/20\n",
            "534896/534896 [==============================] - 1s 1us/step - loss: 0.6179 - accuracy: 0.8804 - val_loss: 0.5788 - val_accuracy: 0.8786\n",
            "Epoch 4/20\n",
            "534896/534896 [==============================] - 1s 1us/step - loss: 0.5003 - accuracy: 0.8795 - val_loss: 0.4383 - val_accuracy: 0.8783\n",
            "Epoch 5/20\n",
            "534896/534896 [==============================] - 1s 1us/step - loss: 0.3607 - accuracy: 0.8793 - val_loss: 0.3346 - val_accuracy: 0.8783\n",
            "Epoch 6/20\n",
            "534896/534896 [==============================] - 1s 1us/step - loss: 0.2779 - accuracy: 0.8795 - val_loss: 0.2944 - val_accuracy: 0.8785\n",
            "Epoch 7/20\n",
            "534896/534896 [==============================] - 1s 1us/step - loss: 0.2436 - accuracy: 0.8798 - val_loss: 0.2786 - val_accuracy: 0.8789\n",
            "Epoch 8/20\n",
            "534896/534896 [==============================] - 1s 1us/step - loss: 0.2286 - accuracy: 0.8800 - val_loss: 0.2724 - val_accuracy: 0.8789\n",
            "Epoch 9/20\n",
            "534896/534896 [==============================] - 1s 1us/step - loss: 0.2207 - accuracy: 0.8801 - val_loss: 0.2670 - val_accuracy: 0.8793\n",
            "Epoch 10/20\n",
            "534896/534896 [==============================] - 1s 1us/step - loss: 0.2156 - accuracy: 0.8809 - val_loss: 0.2650 - val_accuracy: 0.8804\n",
            "Epoch 11/20\n",
            "534896/534896 [==============================] - 1s 1us/step - loss: 0.2118 - accuracy: 0.8832 - val_loss: 0.2611 - val_accuracy: 0.8832\n",
            "Epoch 12/20\n",
            "534896/534896 [==============================] - 1s 1us/step - loss: 0.2087 - accuracy: 0.8859 - val_loss: 0.2573 - val_accuracy: 0.8859\n",
            "Epoch 13/20\n",
            "534896/534896 [==============================] - 1s 1us/step - loss: 0.2059 - accuracy: 0.8889 - val_loss: 0.2549 - val_accuracy: 0.8886\n",
            "Epoch 14/20\n",
            "534896/534896 [==============================] - 1s 1us/step - loss: 0.2033 - accuracy: 0.8908 - val_loss: 0.2533 - val_accuracy: 0.8902\n",
            "Epoch 15/20\n",
            "534896/534896 [==============================] - 1s 1us/step - loss: 0.2010 - accuracy: 0.8927 - val_loss: 0.2494 - val_accuracy: 0.8932\n",
            "Epoch 16/20\n",
            "534896/534896 [==============================] - 1s 1us/step - loss: 0.1988 - accuracy: 0.8946 - val_loss: 0.2474 - val_accuracy: 0.8942\n",
            "Epoch 17/20\n",
            "534896/534896 [==============================] - 1s 1us/step - loss: 0.1969 - accuracy: 0.8954 - val_loss: 0.2467 - val_accuracy: 0.8948\n",
            "Epoch 18/20\n",
            "534896/534896 [==============================] - 1s 1us/step - loss: 0.1951 - accuracy: 0.8960 - val_loss: 0.2439 - val_accuracy: 0.8955\n",
            "Epoch 19/20\n",
            "534896/534896 [==============================] - 1s 1us/step - loss: 0.1934 - accuracy: 0.8967 - val_loss: 0.2423 - val_accuracy: 0.8962\n",
            "Epoch 20/20\n",
            "534896/534896 [==============================] - 1s 1us/step - loss: 0.1919 - accuracy: 0.8975 - val_loss: 0.2400 - val_accuracy: 0.8970\n"
          ],
          "name": "stdout"
        }
      ]
    },
    {
      "cell_type": "code",
      "metadata": {
        "colab_type": "code",
        "id": "iE3aHzdttAYV",
        "outputId": "2514d9d1-f577-44a8-e644-946472f0839c",
        "colab": {
          "base_uri": "https://localhost:8080/",
          "height": 68
        }
      },
      "source": [
        "# Evaluate model on test data\n",
        "score = model2.evaluate(Xtest , Ytest)\n",
        "\n",
        "print('Test loss: %.4f' % score[0])\n",
        "print('Test accuracy: %.4f' % score[1])"
      ],
      "execution_count": 36,
      "outputs": [
        {
          "output_type": "stream",
          "text": [
            "114620/114620 [==============================] - 5s 48us/step\n",
            "Test loss: 0.2342\n",
            "Test accuracy: 0.8996\n"
          ],
          "name": "stdout"
        }
      ]
    },
    {
      "cell_type": "code",
      "metadata": {
        "colab_type": "code",
        "id": "BRDyB_8_tAYY",
        "outputId": "7409d32d-2117-4152-b6a2-38201b17cc95",
        "colab": {
          "base_uri": "https://localhost:8080/",
          "height": 541
        }
      },
      "source": [
        "plot_results(history2)"
      ],
      "execution_count": 37,
      "outputs": [
        {
          "output_type": "display_data",
          "data": {
            "image/png": "[encoded data removed]",
            "text/plain": [
              "<Figure size 720x288 with 1 Axes>"
            ]
          },
          "metadata": {
            "tags": [],
            "needs_background": "light"
          }
        },
        {
          "output_type": "display_data",
          "data": {
            "image/png": "[encoded data removed]",
            "text/plain": [
              "<Figure size 720x288 with 1 Axes>"
            ]
          },
          "metadata": {
            "tags": [],
            "needs_background": "light"
          }
        }
      ]
    },
    {
      "cell_type": "markdown",
      "metadata": {
        "colab_type": "text",
        "id": "jnUfj87XtAYd"
      },
      "source": [
        "# Part 14: More questions\n",
        "\n",
        "Question 11: Why do we have to use a batch size? Why can't we simply use all data at once? This is more relevant for even larger datasets.\n",
        "\n",
        "Question 12: How busy is the GPU for a batch size of 100? How much GPU memory is used? Hint: run 'nvidia-smi' on the cloud computer a few times during training.\n",
        "\n",
        "Question 13: What is the processing time for one training epoch when the batch size is 100? What is the processing time for one epoch when the batch size is 1,000? What is the processing time for one epoch when the batch size is 10,000? Explain the results. \n",
        "\n",
        "Question 14: How many times are the weights in the DNN updated in each training epoch if the batch size is 100? How many times are the weights in the DNN updated in each training epoch if the batch size is 1,000? How many times are the weights in the DNN updated in each training epoch if the batch size is 10,000?  \n",
        "\n",
        "Question 15: What limits how large the batch size can be?\n",
        "\n",
        "Question 16: Generally speaking, how is the learning rate related to the batch size? If the batch size is decreased, how should the learning rate be changed?\n",
        "\n",
        "Lets use a batch size of 10,000 from now on, and a learning rate of 0.1."
      ]
    },
    {
      "cell_type": "markdown",
      "metadata": {
        "id": "MOatgpP4a8Zq",
        "colab_type": "text"
      },
      "source": [
        "Answer 11: Because if we use all the dataset for the training then it might be possible that our model lead to overfitting and it also take a long time to train thats why we use the batch size parameter to select the random data from dataset and train the model.\n",
        "Answer 12: it is 35% and 10960Mb is used.\n",
        "Answer 13: 15 Seconds for 100, 2seconds for 1000 and 1 second for 10000.\n",
        "Answer 14: Weights will be update times the number of batches.\n",
        "Answer 15: Batch size should be smaller than the length of training dataset.\n",
        "Answer 16:It is directly proportional to the batch size larger the batch size and the larger the learning rate. If the batch size is reduced the learning rate should also be reduced."
      ]
    },
    {
      "cell_type": "markdown",
      "metadata": {
        "colab_type": "text",
        "id": "FD6_9Z-ktAYe"
      },
      "source": [
        "# Part 15: Increasing the complexity\n",
        "\n",
        "Lets try some different configurations of number of layers and number of nodes per layer.\n",
        "\n",
        "Question 17: How many trainable parameters does the network with 4 dense layers with 50 nodes each have, compared to the initial network with 2 layers and 20 nodes per layer? Hint: use model.summary()"
      ]
    },
    {
      "cell_type": "markdown",
      "metadata": {
        "colab_type": "text",
        "id": "uuJbOyYZtAYf"
      },
      "source": [
        "### 4 layers, 20 nodes, class weights"
      ]
    },
    {
      "cell_type": "code",
      "metadata": {
        "colab_type": "code",
        "id": "Ym-wW4G1tAYf",
        "outputId": "34a6ca5c-7947-494c-ed35-3042a834efc0",
        "scrolled": true,
        "colab": {
          "base_uri": "https://localhost:8080/",
          "height": 1000
        }
      },
      "source": [
        "# Setup some training parameters\n",
        "batch_size = 10000\n",
        "epochs = 20\n",
        "input_shape =Xtrain.shape\n",
        "# Build and train model\n",
        "model3 = build_DNN(input_shape,4,20,'sigmoid','sgd',0.1)\n",
        "model3.summary()\n",
        "history3 = model3.fit(Xtrain,Ytrain,epochs=epochs,validation_data=(Xval,Yval),class_weight=weights,batch_size=batch_size)"
      ],
      "execution_count": 38,
      "outputs": [
        {
          "output_type": "stream",
          "text": [
            "Model: \"sequential_3\"\n",
            "_________________________________________________________________\n",
            "Layer (type)                 Output Shape              Param #   \n",
            "=================================================================\n",
            "dense_7 (Dense)              (None, 20)                1860      \n",
            "_________________________________________________________________\n",
            "dense_8 (Dense)              (None, 20)                420       \n",
            "_________________________________________________________________\n",
            "dense_9 (Dense)              (None, 20)                420       \n",
            "_________________________________________________________________\n",
            "dense_10 (Dense)             (None, 20)                420       \n",
            "_________________________________________________________________\n",
            "dense_11 (Dense)             (None, 1)                 21        \n",
            "=================================================================\n",
            "Total params: 3,141\n",
            "Trainable params: 3,141\n",
            "Non-trainable params: 0\n",
            "_________________________________________________________________\n",
            "Train on 534896 samples, validate on 114620 samples\n",
            "Epoch 1/20\n",
            "534896/534896 [==============================] - 1s 2us/step - loss: 0.6971 - accuracy: 0.6876 - val_loss: 0.6906 - val_accuracy: 0.8394\n",
            "Epoch 2/20\n",
            "534896/534896 [==============================] - 1s 1us/step - loss: 0.6932 - accuracy: 0.5662 - val_loss: 0.6953 - val_accuracy: 0.1606\n",
            "Epoch 3/20\n",
            "534896/534896 [==============================] - 1s 1us/step - loss: 0.6932 - accuracy: 0.4324 - val_loss: 0.6927 - val_accuracy: 0.8394\n",
            "Epoch 4/20\n",
            "534896/534896 [==============================] - 1s 1us/step - loss: 0.6932 - accuracy: 0.5088 - val_loss: 0.6919 - val_accuracy: 0.8394\n",
            "Epoch 5/20\n",
            "534896/534896 [==============================] - 1s 1us/step - loss: 0.6932 - accuracy: 0.5672 - val_loss: 0.6974 - val_accuracy: 0.1606\n",
            "Epoch 6/20\n",
            "534896/534896 [==============================] - 1s 1us/step - loss: 0.6932 - accuracy: 0.4777 - val_loss: 0.6983 - val_accuracy: 0.1606\n",
            "Epoch 7/20\n",
            "534896/534896 [==============================] - 1s 1us/step - loss: 0.6932 - accuracy: 0.5283 - val_loss: 0.6947 - val_accuracy: 0.1606\n",
            "Epoch 8/20\n",
            "534896/534896 [==============================] - 1s 1us/step - loss: 0.6932 - accuracy: 0.4649 - val_loss: 0.6907 - val_accuracy: 0.8394\n",
            "Epoch 9/20\n",
            "534896/534896 [==============================] - 1s 1us/step - loss: 0.6932 - accuracy: 0.4904 - val_loss: 0.6968 - val_accuracy: 0.1606\n",
            "Epoch 10/20\n",
            "534896/534896 [==============================] - 1s 1us/step - loss: 0.6932 - accuracy: 0.4586 - val_loss: 0.6923 - val_accuracy: 0.8394\n",
            "Epoch 11/20\n",
            "534896/534896 [==============================] - 1s 1us/step - loss: 0.6932 - accuracy: 0.4638 - val_loss: 0.6887 - val_accuracy: 0.8394\n",
            "Epoch 12/20\n",
            "534896/534896 [==============================] - 1s 1us/step - loss: 0.6932 - accuracy: 0.5730 - val_loss: 0.6905 - val_accuracy: 0.8394\n",
            "Epoch 13/20\n",
            "534896/534896 [==============================] - 1s 1us/step - loss: 0.6932 - accuracy: 0.5028 - val_loss: 0.6928 - val_accuracy: 0.8394\n",
            "Epoch 14/20\n",
            "534896/534896 [==============================] - 1s 1us/step - loss: 0.6932 - accuracy: 0.4960 - val_loss: 0.6926 - val_accuracy: 0.8394\n",
            "Epoch 15/20\n",
            "534896/534896 [==============================] - 1s 1us/step - loss: 0.6932 - accuracy: 0.5417 - val_loss: 0.6952 - val_accuracy: 0.1606\n",
            "Epoch 16/20\n",
            "534896/534896 [==============================] - 1s 1us/step - loss: 0.6932 - accuracy: 0.4655 - val_loss: 0.6940 - val_accuracy: 0.1606\n",
            "Epoch 17/20\n",
            "534896/534896 [==============================] - 1s 2us/step - loss: 0.6932 - accuracy: 0.5798 - val_loss: 0.6984 - val_accuracy: 0.1606\n",
            "Epoch 18/20\n",
            "534896/534896 [==============================] - 1s 2us/step - loss: 0.6932 - accuracy: 0.4070 - val_loss: 0.6925 - val_accuracy: 0.8394\n",
            "Epoch 19/20\n",
            "534896/534896 [==============================] - 1s 2us/step - loss: 0.6932 - accuracy: 0.4833 - val_loss: 0.6926 - val_accuracy: 0.8394\n",
            "Epoch 20/20\n",
            "534896/534896 [==============================] - 1s 2us/step - loss: 0.6932 - accuracy: 0.5926 - val_loss: 0.6940 - val_accuracy: 0.1606\n"
          ],
          "name": "stdout"
        }
      ]
    },
    {
      "cell_type": "code",
      "metadata": {
        "colab_type": "code",
        "id": "iJegDIcDtAYj",
        "outputId": "12f63ac1-73ea-430d-d601-d2317808e336",
        "colab": {
          "base_uri": "https://localhost:8080/",
          "height": 68
        }
      },
      "source": [
        "# Evaluate model on test data\n",
        "score = model3.evaluate(Xtest , Ytest)\n",
        "\n",
        "print('Test loss: %.4f' % score[0])\n",
        "print('Test accuracy: %.4f' % score[1])"
      ],
      "execution_count": 39,
      "outputs": [
        {
          "output_type": "stream",
          "text": [
            "114620/114620 [==============================] - 6s 54us/step\n",
            "Test loss: 0.6940\n",
            "Test accuracy: 0.1588\n"
          ],
          "name": "stdout"
        }
      ]
    },
    {
      "cell_type": "code",
      "metadata": {
        "colab_type": "code",
        "id": "IJ9hTDRUtAYm",
        "outputId": "243bbdf1-d2d3-4a8b-fdbf-e023747a259a",
        "colab": {
          "base_uri": "https://localhost:8080/",
          "height": 541
        }
      },
      "source": [
        "plot_results(history3)"
      ],
      "execution_count": 40,
      "outputs": [
        {
          "output_type": "display_data",
          "data": {
            "image/png": "[encoded data removed]",
            "text/plain": [
              "<Figure size 720x288 with 1 Axes>"
            ]
          },
          "metadata": {
            "tags": [],
            "needs_background": "light"
          }
        },
        {
          "output_type": "display_data",
          "data": {
            "image/png": "[encoded data removed]",
            "text/plain": [
              "<Figure size 720x288 with 1 Axes>"
            ]
          },
          "metadata": {
            "tags": [],
            "needs_background": "light"
          }
        }
      ]
    },
    {
      "cell_type": "markdown",
      "metadata": {
        "colab_type": "text",
        "id": "peWwTUWCtAYq"
      },
      "source": [
        "### 2 layers, 50 nodes, class weights"
      ]
    },
    {
      "cell_type": "code",
      "metadata": {
        "colab_type": "code",
        "id": "tLGrGiM8tAYr",
        "outputId": "79a8e3b5-e065-4a44-b58a-e8177e94a56c",
        "scrolled": true,
        "colab": {
          "base_uri": "https://localhost:8080/",
          "height": 714
        }
      },
      "source": [
        "# Setup some training parameters\n",
        "batch_size = 10000\n",
        "epochs = 20\n",
        "input_shape = Xtrain.shape\n",
        "\n",
        "# Build and train model\n",
        "model4 = build_DNN(input_shape,2,50,'sigmoid','sgd',0.1)\n",
        "\n",
        "history4 = model4.fit(Xtrain,Ytrain,epochs=epochs,validation_data=(Xval,Yval),class_weight=weights,batch_size=batch_size)"
      ],
      "execution_count": 41,
      "outputs": [
        {
          "output_type": "stream",
          "text": [
            "Train on 534896 samples, validate on 114620 samples\n",
            "Epoch 1/20\n",
            "534896/534896 [==============================] - 1s 2us/step - loss: 0.6844 - accuracy: 0.8450 - val_loss: 0.6781 - val_accuracy: 0.8813\n",
            "Epoch 2/20\n",
            "534896/534896 [==============================] - 1s 1us/step - loss: 0.6398 - accuracy: 0.8854 - val_loss: 0.5834 - val_accuracy: 0.8841\n",
            "Epoch 3/20\n",
            "534896/534896 [==============================] - 1s 1us/step - loss: 0.4976 - accuracy: 0.8839 - val_loss: 0.4056 - val_accuracy: 0.8827\n",
            "Epoch 4/20\n",
            "534896/534896 [==============================] - 1s 1us/step - loss: 0.3215 - accuracy: 0.8844 - val_loss: 0.3051 - val_accuracy: 0.8831\n",
            "Epoch 5/20\n",
            "534896/534896 [==============================] - 1s 1us/step - loss: 0.2502 - accuracy: 0.8851 - val_loss: 0.2822 - val_accuracy: 0.8848\n",
            "Epoch 6/20\n",
            "534896/534896 [==============================] - 1s 1us/step - loss: 0.2284 - accuracy: 0.8876 - val_loss: 0.2694 - val_accuracy: 0.8881\n",
            "Epoch 7/20\n",
            "534896/534896 [==============================] - 1s 1us/step - loss: 0.2185 - accuracy: 0.8903 - val_loss: 0.2657 - val_accuracy: 0.8899\n",
            "Epoch 8/20\n",
            "534896/534896 [==============================] - 1s 1us/step - loss: 0.2121 - accuracy: 0.8917 - val_loss: 0.2613 - val_accuracy: 0.8911\n",
            "Epoch 9/20\n",
            "534896/534896 [==============================] - 1s 1us/step - loss: 0.2074 - accuracy: 0.8935 - val_loss: 0.2561 - val_accuracy: 0.8940\n",
            "Epoch 10/20\n",
            "534896/534896 [==============================] - 1s 1us/step - loss: 0.2036 - accuracy: 0.8954 - val_loss: 0.2522 - val_accuracy: 0.8951\n",
            "Epoch 11/20\n",
            "534896/534896 [==============================] - 1s 1us/step - loss: 0.2004 - accuracy: 0.8962 - val_loss: 0.2494 - val_accuracy: 0.8956\n",
            "Epoch 12/20\n",
            "534896/534896 [==============================] - 1s 1us/step - loss: 0.1977 - accuracy: 0.8966 - val_loss: 0.2470 - val_accuracy: 0.8959\n",
            "Epoch 13/20\n",
            "534896/534896 [==============================] - 1s 1us/step - loss: 0.1953 - accuracy: 0.8969 - val_loss: 0.2439 - val_accuracy: 0.8961\n",
            "Epoch 14/20\n",
            "534896/534896 [==============================] - 1s 1us/step - loss: 0.1934 - accuracy: 0.8973 - val_loss: 0.2419 - val_accuracy: 0.8968\n",
            "Epoch 15/20\n",
            "534896/534896 [==============================] - 1s 1us/step - loss: 0.1916 - accuracy: 0.8980 - val_loss: 0.2401 - val_accuracy: 0.8974\n",
            "Epoch 16/20\n",
            "534896/534896 [==============================] - 1s 1us/step - loss: 0.1901 - accuracy: 0.8985 - val_loss: 0.2389 - val_accuracy: 0.8980\n",
            "Epoch 17/20\n",
            "534896/534896 [==============================] - 1s 1us/step - loss: 0.1888 - accuracy: 0.8992 - val_loss: 0.2373 - val_accuracy: 0.8987\n",
            "Epoch 18/20\n",
            "534896/534896 [==============================] - 1s 1us/step - loss: 0.1876 - accuracy: 0.9000 - val_loss: 0.2384 - val_accuracy: 0.8992\n",
            "Epoch 19/20\n",
            "534896/534896 [==============================] - 1s 1us/step - loss: 0.1865 - accuracy: 0.9006 - val_loss: 0.2343 - val_accuracy: 0.9002\n",
            "Epoch 20/20\n",
            "534896/534896 [==============================] - 1s 1us/step - loss: 0.1856 - accuracy: 0.9013 - val_loss: 0.2331 - val_accuracy: 0.9007\n"
          ],
          "name": "stdout"
        }
      ]
    },
    {
      "cell_type": "code",
      "metadata": {
        "colab_type": "code",
        "id": "zXrVzRYLtAYw",
        "outputId": "1615b2d8-ebf3-4144-dbf4-e3c3d463222b",
        "colab": {
          "base_uri": "https://localhost:8080/",
          "height": 68
        }
      },
      "source": [
        "# Evaluate model on test data\n",
        "score = model4.evaluate(Xtest , Ytest)\n",
        "\n",
        "print('Test loss: %.4f' % score[0])\n",
        "print('Test accuracy: %.4f' % score[1])"
      ],
      "execution_count": 42,
      "outputs": [
        {
          "output_type": "stream",
          "text": [
            "114620/114620 [==============================] - 5s 48us/step\n",
            "Test loss: 0.2275\n",
            "Test accuracy: 0.9036\n"
          ],
          "name": "stdout"
        }
      ]
    },
    {
      "cell_type": "code",
      "metadata": {
        "colab_type": "code",
        "id": "Hffe0l0JtAY7",
        "colab": {
          "base_uri": "https://localhost:8080/",
          "height": 542
        },
        "outputId": "7e3f7ee2-5777-432b-9085-c1c44bd787bb"
      },
      "source": [
        "plot_results(history4)"
      ],
      "execution_count": 43,
      "outputs": [
        {
          "output_type": "display_data",
          "data": {
            "image/png": "[encoded data removed]",
            "text/plain": [
              "<Figure size 720x288 with 1 Axes>"
            ]
          },
          "metadata": {
            "tags": [],
            "needs_background": "light"
          }
        },
        {
          "output_type": "display_data",
          "data": {
            "image/png": "[encoded data removed]",
            "text/plain": [
              "<Figure size 720x288 with 1 Axes>"
            ]
          },
          "metadata": {
            "tags": [],
            "needs_background": "light"
          }
        }
      ]
    },
    {
      "cell_type": "markdown",
      "metadata": {
        "colab_type": "text",
        "id": "jpYc0wzwtAY-"
      },
      "source": [
        "### 4 layers, 50 nodes, class weights"
      ]
    },
    {
      "cell_type": "code",
      "metadata": {
        "colab_type": "code",
        "id": "4bZRgW5DtAY_",
        "outputId": "578e4c66-e27b-4b4a-ee62-ed1b422f4fe9",
        "scrolled": true,
        "colab": {
          "base_uri": "https://localhost:8080/",
          "height": 714
        }
      },
      "source": [
        "# Setup some training parameters\n",
        "batch_size = 10000\n",
        "epochs = 20\n",
        "input_shape = Xtest.shape\n",
        "\n",
        "# Build and train model\n",
        "model5 = build_DNN(input_shape=input_shape,n_layers=4,n_nodes=50,act_fun='sigmoid',optimizer='sgd',learning_rate=0.1)\n",
        "\n",
        "history5 = model5.fit(Xtrain,Ytrain,epochs=epochs,validation_data=(Xval,Yval),class_weight=weights,batch_size=batch_size)"
      ],
      "execution_count": 44,
      "outputs": [
        {
          "output_type": "stream",
          "text": [
            "Train on 534896 samples, validate on 114620 samples\n",
            "Epoch 1/20\n",
            "534896/534896 [==============================] - 1s 2us/step - loss: 0.6932 - accuracy: 0.4657 - val_loss: 0.6940 - val_accuracy: 0.1606\n",
            "Epoch 2/20\n",
            "534896/534896 [==============================] - 1s 2us/step - loss: 0.6932 - accuracy: 0.5039 - val_loss: 0.6937 - val_accuracy: 0.1606\n",
            "Epoch 3/20\n",
            "534896/534896 [==============================] - 1s 2us/step - loss: 0.6932 - accuracy: 0.5678 - val_loss: 0.7028 - val_accuracy: 0.1606\n",
            "Epoch 4/20\n",
            "534896/534896 [==============================] - 1s 2us/step - loss: 0.6932 - accuracy: 0.4394 - val_loss: 0.6933 - val_accuracy: 0.1606\n",
            "Epoch 5/20\n",
            "534896/534896 [==============================] - 1s 2us/step - loss: 0.6932 - accuracy: 0.4579 - val_loss: 0.6980 - val_accuracy: 0.1606\n",
            "Epoch 6/20\n",
            "534896/534896 [==============================] - 1s 2us/step - loss: 0.6932 - accuracy: 0.4785 - val_loss: 0.6964 - val_accuracy: 0.1606\n",
            "Epoch 7/20\n",
            "534896/534896 [==============================] - 1s 2us/step - loss: 0.6932 - accuracy: 0.4643 - val_loss: 0.6916 - val_accuracy: 0.8394\n",
            "Epoch 8/20\n",
            "534896/534896 [==============================] - 1s 2us/step - loss: 0.6932 - accuracy: 0.5100 - val_loss: 0.6939 - val_accuracy: 0.1606\n",
            "Epoch 9/20\n",
            "534896/534896 [==============================] - 1s 2us/step - loss: 0.6932 - accuracy: 0.5288 - val_loss: 0.6956 - val_accuracy: 0.1606\n",
            "Epoch 10/20\n",
            "534896/534896 [==============================] - 1s 2us/step - loss: 0.6932 - accuracy: 0.4770 - val_loss: 0.6902 - val_accuracy: 0.8394\n",
            "Epoch 11/20\n",
            "534896/534896 [==============================] - 1s 2us/step - loss: 0.6932 - accuracy: 0.5291 - val_loss: 0.6958 - val_accuracy: 0.1606\n",
            "Epoch 12/20\n",
            "534896/534896 [==============================] - 1s 2us/step - loss: 0.6932 - accuracy: 0.4459 - val_loss: 0.6907 - val_accuracy: 0.8394\n",
            "Epoch 13/20\n",
            "534896/534896 [==============================] - 1s 2us/step - loss: 0.6932 - accuracy: 0.4963 - val_loss: 0.6754 - val_accuracy: 0.8394\n",
            "Epoch 14/20\n",
            "534896/534896 [==============================] - 1s 2us/step - loss: 0.6932 - accuracy: 0.5341 - val_loss: 0.6872 - val_accuracy: 0.8394\n",
            "Epoch 15/20\n",
            "534896/534896 [==============================] - 1s 2us/step - loss: 0.6932 - accuracy: 0.5547 - val_loss: 0.6922 - val_accuracy: 0.8394\n",
            "Epoch 16/20\n",
            "534896/534896 [==============================] - 1s 2us/step - loss: 0.6932 - accuracy: 0.5101 - val_loss: 0.6851 - val_accuracy: 0.8394\n",
            "Epoch 17/20\n",
            "534896/534896 [==============================] - 1s 2us/step - loss: 0.6932 - accuracy: 0.4959 - val_loss: 0.6975 - val_accuracy: 0.1606\n",
            "Epoch 18/20\n",
            "534896/534896 [==============================] - 1s 2us/step - loss: 0.6932 - accuracy: 0.4517 - val_loss: 0.6982 - val_accuracy: 0.1606\n",
            "Epoch 19/20\n",
            "534896/534896 [==============================] - 1s 2us/step - loss: 0.6932 - accuracy: 0.5282 - val_loss: 0.6908 - val_accuracy: 0.8394\n",
            "Epoch 20/20\n",
            "534896/534896 [==============================] - 1s 2us/step - loss: 0.6932 - accuracy: 0.4844 - val_loss: 0.6852 - val_accuracy: 0.8394\n"
          ],
          "name": "stdout"
        }
      ]
    },
    {
      "cell_type": "code",
      "metadata": {
        "colab_type": "code",
        "id": "mWmaHSeBtAZD",
        "outputId": "589eeec2-7612-4009-e5e0-c055393ebe34",
        "colab": {
          "base_uri": "https://localhost:8080/",
          "height": 68
        }
      },
      "source": [
        "# Evaluate model on test data\n",
        "score = model5.evaluate(Xtest , Ytest)\n",
        "\n",
        "print('Test loss: %.4f' % score[0])\n",
        "print('Test accuracy: %.4f' % score[1])"
      ],
      "execution_count": 45,
      "outputs": [
        {
          "output_type": "stream",
          "text": [
            "114620/114620 [==============================] - 6s 51us/step\n",
            "Test loss: 0.6851\n",
            "Test accuracy: 0.8412\n"
          ],
          "name": "stdout"
        }
      ]
    },
    {
      "cell_type": "code",
      "metadata": {
        "colab_type": "code",
        "id": "_-O8bFnatAZG",
        "outputId": "acf2d097-0f0f-44a5-9773-ecce26d7742b",
        "colab": {
          "base_uri": "https://localhost:8080/",
          "height": 541
        }
      },
      "source": [
        "plot_results(history5)"
      ],
      "execution_count": 46,
      "outputs": [
        {
          "output_type": "display_data",
          "data": {
            "image/png": "[encoded data removed]",
            "text/plain": [
              "<Figure size 720x288 with 1 Axes>"
            ]
          },
          "metadata": {
            "tags": [],
            "needs_background": "light"
          }
        },
        {
          "output_type": "display_data",
          "data": {
            "image/png": "[encoded data removed]",
            "text/plain": [
              "<Figure size 720x288 with 1 Axes>"
            ]
          },
          "metadata": {
            "tags": [],
            "needs_background": "light"
          }
        }
      ]
    },
    {
      "cell_type": "markdown",
      "metadata": {
        "colab_type": "text",
        "id": "73DifZkptAZK"
      },
      "source": [
        "# Part 16: Batch normalization\n",
        "\n",
        "Now add batch normalization after each dense layer. Remember to import BatchNormalization from keras.layers. \n",
        "\n",
        "See https://keras.io/layers/normalization/ for information about how to call the function.\n",
        "\n",
        "Question 18: Why is batch normalization important when training deep networks?"
      ]
    },
    {
      "cell_type": "markdown",
      "metadata": {
        "id": "YA8rZHA3a8aL",
        "colab_type": "text"
      },
      "source": [
        "Because Batch Normalization does normalization for the hidden layers unit values i.e. it makes the mean near to 0 and sd near to 1."
      ]
    },
    {
      "cell_type": "markdown",
      "metadata": {
        "colab_type": "text",
        "id": "70LVSdL5tAZL"
      },
      "source": [
        "### 2 layers, 20 nodes, class weights, batch normalization"
      ]
    },
    {
      "cell_type": "code",
      "metadata": {
        "colab_type": "code",
        "id": "D__rWMHptAZM",
        "outputId": "2eec8e03-b2e2-49a1-b7e3-461dd6a4d8ef",
        "scrolled": true,
        "colab": {
          "base_uri": "https://localhost:8080/",
          "height": 714
        }
      },
      "source": [
        "# Setup some training parameters\n",
        "batch_size = 10000\n",
        "epochs = 20\n",
        "input_shape = Xtrain.shape\n",
        "\n",
        "# Build and train model\n",
        "model6 = build_DNN(input_shape=input_shape,n_layers=2,n_nodes=20,act_fun='sigmoid',optimizer='sgd',learning_rate=0.1,use_bn=True)\n",
        "\n",
        "history6 = model6.fit(Xtrain,Ytrain,epochs=epochs,validation_data=(Xval,Yval),class_weight=weights,batch_size=batch_size)"
      ],
      "execution_count": 47,
      "outputs": [
        {
          "output_type": "stream",
          "text": [
            "Train on 534896 samples, validate on 114620 samples\n",
            "Epoch 1/20\n",
            "534896/534896 [==============================] - 1s 1us/step - loss: 0.6961 - accuracy: 0.3040 - val_loss: 0.6915 - val_accuracy: 0.8790\n",
            "Epoch 2/20\n",
            "534896/534896 [==============================] - 1s 1us/step - loss: 0.6869 - accuracy: 0.8737 - val_loss: 0.6800 - val_accuracy: 0.8823\n",
            "Epoch 3/20\n",
            "534896/534896 [==============================] - 1s 1us/step - loss: 0.6733 - accuracy: 0.8838 - val_loss: 0.6606 - val_accuracy: 0.8793\n",
            "Epoch 4/20\n",
            "534896/534896 [==============================] - 1s 1us/step - loss: 0.6342 - accuracy: 0.8817 - val_loss: 0.5996 - val_accuracy: 0.8808\n",
            "Epoch 5/20\n",
            "534896/534896 [==============================] - 1s 1us/step - loss: 0.5353 - accuracy: 0.8822 - val_loss: 0.4680 - val_accuracy: 0.8807\n",
            "Epoch 6/20\n",
            "534896/534896 [==============================] - 1s 1us/step - loss: 0.3868 - accuracy: 0.8808 - val_loss: 0.3493 - val_accuracy: 0.8790\n",
            "Epoch 7/20\n",
            "534896/534896 [==============================] - 1s 1us/step - loss: 0.2870 - accuracy: 0.8802 - val_loss: 0.3001 - val_accuracy: 0.8793\n",
            "Epoch 8/20\n",
            "534896/534896 [==============================] - 1s 1us/step - loss: 0.2464 - accuracy: 0.8813 - val_loss: 0.2825 - val_accuracy: 0.8811\n",
            "Epoch 9/20\n",
            "534896/534896 [==============================] - 1s 1us/step - loss: 0.2292 - accuracy: 0.8832 - val_loss: 0.2740 - val_accuracy: 0.8830\n",
            "Epoch 10/20\n",
            "534896/534896 [==============================] - 1s 1us/step - loss: 0.2200 - accuracy: 0.8855 - val_loss: 0.2673 - val_accuracy: 0.8858\n",
            "Epoch 11/20\n",
            "534896/534896 [==============================] - 1s 1us/step - loss: 0.2139 - accuracy: 0.8888 - val_loss: 0.2629 - val_accuracy: 0.8885\n",
            "Epoch 12/20\n",
            "534896/534896 [==============================] - 1s 1us/step - loss: 0.2094 - accuracy: 0.8906 - val_loss: 0.2590 - val_accuracy: 0.8900\n",
            "Epoch 13/20\n",
            "534896/534896 [==============================] - 1s 1us/step - loss: 0.2057 - accuracy: 0.8924 - val_loss: 0.2552 - val_accuracy: 0.8928\n",
            "Epoch 14/20\n",
            "534896/534896 [==============================] - 1s 1us/step - loss: 0.2027 - accuracy: 0.8944 - val_loss: 0.2538 - val_accuracy: 0.8939\n",
            "Epoch 15/20\n",
            "534896/534896 [==============================] - 1s 1us/step - loss: 0.2001 - accuracy: 0.8953 - val_loss: 0.2491 - val_accuracy: 0.8949\n",
            "Epoch 16/20\n",
            "534896/534896 [==============================] - 1s 1us/step - loss: 0.1978 - accuracy: 0.8960 - val_loss: 0.2480 - val_accuracy: 0.8955\n",
            "Epoch 17/20\n",
            "534896/534896 [==============================] - 1s 1us/step - loss: 0.1958 - accuracy: 0.8967 - val_loss: 0.2461 - val_accuracy: 0.8962\n",
            "Epoch 18/20\n",
            "534896/534896 [==============================] - 1s 1us/step - loss: 0.1940 - accuracy: 0.8974 - val_loss: 0.2437 - val_accuracy: 0.8969\n",
            "Epoch 19/20\n",
            "534896/534896 [==============================] - 1s 1us/step - loss: 0.1924 - accuracy: 0.8979 - val_loss: 0.2421 - val_accuracy: 0.8973\n",
            "Epoch 20/20\n",
            "534896/534896 [==============================] - 1s 1us/step - loss: 0.1910 - accuracy: 0.8984 - val_loss: 0.2406 - val_accuracy: 0.8976\n"
          ],
          "name": "stdout"
        }
      ]
    },
    {
      "cell_type": "code",
      "metadata": {
        "colab_type": "code",
        "id": "hJs5juqPtAZQ",
        "outputId": "caf2b8f3-df66-4868-d4cc-8f7fa77fc50d",
        "colab": {
          "base_uri": "https://localhost:8080/",
          "height": 68
        }
      },
      "source": [
        "# Evaluate model on test data\n",
        "score = model6.evaluate(Xtest , Ytest)\n",
        "\n",
        "print('Test loss: %.4f' % score[0])\n",
        "print('Test accuracy: %.4f' % score[1])"
      ],
      "execution_count": 48,
      "outputs": [
        {
          "output_type": "stream",
          "text": [
            "114620/114620 [==============================] - 6s 48us/step\n",
            "Test loss: 0.2347\n",
            "Test accuracy: 0.9005\n"
          ],
          "name": "stdout"
        }
      ]
    },
    {
      "cell_type": "code",
      "metadata": {
        "colab_type": "code",
        "id": "fPeWPjZ3tAZT",
        "outputId": "f232cb81-50b0-41a2-fcd1-450f40807673",
        "colab": {
          "base_uri": "https://localhost:8080/",
          "height": 541
        }
      },
      "source": [
        "plot_results(history6)"
      ],
      "execution_count": 49,
      "outputs": [
        {
          "output_type": "display_data",
          "data": {
            "image/png": "[encoded data removed]",
            "text/plain": [
              "<Figure size 720x288 with 1 Axes>"
            ]
          },
          "metadata": {
            "tags": [],
            "needs_background": "light"
          }
        },
        {
          "output_type": "display_data",
          "data": {
            "image/png": "[encoded data removed]",
            "text/plain": [
              "<Figure size 720x288 with 1 Axes>"
            ]
          },
          "metadata": {
            "tags": [],
            "needs_background": "light"
          }
        }
      ]
    },
    {
      "cell_type": "markdown",
      "metadata": {
        "colab_type": "text",
        "id": "Kt40jSNztAZY"
      },
      "source": [
        "# Part 17: Activation function\n",
        "\n",
        "Try changing the activation function in each layer from sigmoid to ReLU, write down the test accuracy.\n",
        "\n",
        "Note: the last layer should still have a sigmoid activation function."
      ]
    },
    {
      "cell_type": "markdown",
      "metadata": {
        "colab_type": "text",
        "id": "-UmPGFnGtAZY"
      },
      "source": [
        "### 2 layers, 20 nodes, class weights, ReLU, no batch normalization"
      ]
    },
    {
      "cell_type": "code",
      "metadata": {
        "colab_type": "code",
        "id": "jp_gPyO6tAZZ",
        "outputId": "dab6074b-553b-43a5-d4e9-dd7ceede59c5",
        "scrolled": true,
        "colab": {
          "base_uri": "https://localhost:8080/",
          "height": 714
        }
      },
      "source": [
        "# Setup some training parameters\n",
        "batch_size = 10000\n",
        "epochs = 20\n",
        "input_shape = Xtrain.shape\n",
        "\n",
        "# Build and train model\n",
        "model7 = build_DNN(input_shape=input_shape,n_layers=2,n_nodes=20,act_fun='relu',optimizer='sgd',learning_rate=0.1)\n",
        "\n",
        "history7 = model7.fit(Xtrain,Ytrain,epochs=epochs,validation_data=(Xval,Yval),class_weight=weights,batch_size=batch_size)"
      ],
      "execution_count": 50,
      "outputs": [
        {
          "output_type": "stream",
          "text": [
            "Train on 534896 samples, validate on 114620 samples\n",
            "Epoch 1/20\n",
            "534896/534896 [==============================] - 1s 2us/step - loss: 0.5006 - accuracy: 0.8792 - val_loss: 0.4445 - val_accuracy: 0.8835\n",
            "Epoch 2/20\n",
            "534896/534896 [==============================] - 1s 1us/step - loss: 0.2497 - accuracy: 0.8927 - val_loss: 0.2687 - val_accuracy: 0.8957\n",
            "Epoch 3/20\n",
            "534896/534896 [==============================] - 1s 1us/step - loss: 0.1972 - accuracy: 0.8986 - val_loss: 0.2430 - val_accuracy: 0.8993\n",
            "Epoch 4/20\n",
            "534896/534896 [==============================] - 1s 1us/step - loss: 0.1874 - accuracy: 0.9011 - val_loss: 0.2376 - val_accuracy: 0.9014\n",
            "Epoch 5/20\n",
            "534896/534896 [==============================] - 1s 1us/step - loss: 0.1834 - accuracy: 0.9035 - val_loss: 0.2318 - val_accuracy: 0.9048\n",
            "Epoch 6/20\n",
            "534896/534896 [==============================] - 1s 1us/step - loss: 0.1809 - accuracy: 0.9061 - val_loss: 0.2333 - val_accuracy: 0.9066\n",
            "Epoch 7/20\n",
            "534896/534896 [==============================] - 1s 1us/step - loss: 0.1790 - accuracy: 0.9079 - val_loss: 0.2295 - val_accuracy: 0.9077\n",
            "Epoch 8/20\n",
            "534896/534896 [==============================] - 1s 1us/step - loss: 0.1774 - accuracy: 0.9085 - val_loss: 0.2283 - val_accuracy: 0.9081\n",
            "Epoch 9/20\n",
            "534896/534896 [==============================] - 1s 1us/step - loss: 0.1761 - accuracy: 0.9088 - val_loss: 0.2261 - val_accuracy: 0.9086\n",
            "Epoch 10/20\n",
            "534896/534896 [==============================] - 1s 1us/step - loss: 0.1751 - accuracy: 0.9092 - val_loss: 0.2215 - val_accuracy: 0.9090\n",
            "Epoch 11/20\n",
            "534896/534896 [==============================] - 1s 1us/step - loss: 0.1743 - accuracy: 0.9095 - val_loss: 0.2206 - val_accuracy: 0.9095\n",
            "Epoch 12/20\n",
            "534896/534896 [==============================] - 1s 1us/step - loss: 0.1734 - accuracy: 0.9103 - val_loss: 0.2226 - val_accuracy: 0.9098\n",
            "Epoch 13/20\n",
            "534896/534896 [==============================] - 1s 1us/step - loss: 0.1727 - accuracy: 0.9113 - val_loss: 0.2186 - val_accuracy: 0.9117\n",
            "Epoch 14/20\n",
            "534896/534896 [==============================] - 1s 1us/step - loss: 0.1719 - accuracy: 0.9123 - val_loss: 0.2195 - val_accuracy: 0.9119\n",
            "Epoch 15/20\n",
            "534896/534896 [==============================] - 1s 1us/step - loss: 0.1712 - accuracy: 0.9127 - val_loss: 0.2211 - val_accuracy: 0.9119\n",
            "Epoch 16/20\n",
            "534896/534896 [==============================] - 1s 1us/step - loss: 0.1705 - accuracy: 0.9132 - val_loss: 0.2165 - val_accuracy: 0.9131\n",
            "Epoch 17/20\n",
            "534896/534896 [==============================] - 1s 1us/step - loss: 0.1698 - accuracy: 0.9138 - val_loss: 0.2151 - val_accuracy: 0.9136\n",
            "Epoch 18/20\n",
            "534896/534896 [==============================] - 1s 1us/step - loss: 0.1691 - accuracy: 0.9141 - val_loss: 0.2150 - val_accuracy: 0.9141\n",
            "Epoch 19/20\n",
            "534896/534896 [==============================] - 1s 1us/step - loss: 0.1684 - accuracy: 0.9144 - val_loss: 0.2142 - val_accuracy: 0.9143\n",
            "Epoch 20/20\n",
            "534896/534896 [==============================] - 1s 1us/step - loss: 0.1678 - accuracy: 0.9147 - val_loss: 0.2129 - val_accuracy: 0.9146\n"
          ],
          "name": "stdout"
        }
      ]
    },
    {
      "cell_type": "code",
      "metadata": {
        "colab_type": "code",
        "id": "iR0xtSVDtAZc",
        "outputId": "b2ee1a0a-517e-4330-ec18-e7cfbcd46c69",
        "colab": {
          "base_uri": "https://localhost:8080/",
          "height": 68
        }
      },
      "source": [
        "# Evaluate model on test data\n",
        "score = model7.evaluate(Xtest , Ytest)\n",
        "\n",
        "print('Test loss: %.4f' % score[0])\n",
        "print('Test accuracy: %.4f' % score[1])"
      ],
      "execution_count": 51,
      "outputs": [
        {
          "output_type": "stream",
          "text": [
            "114620/114620 [==============================] - 6s 49us/step\n",
            "Test loss: 0.2090\n",
            "Test accuracy: 0.9163\n"
          ],
          "name": "stdout"
        }
      ]
    },
    {
      "cell_type": "code",
      "metadata": {
        "colab_type": "code",
        "id": "4r9E83KGtAZg",
        "outputId": "0b32b3b6-983e-4f58-b31f-ac87680611d8",
        "colab": {
          "base_uri": "https://localhost:8080/",
          "height": 541
        }
      },
      "source": [
        "plot_results(history7)"
      ],
      "execution_count": 52,
      "outputs": [
        {
          "output_type": "display_data",
          "data": {
            "image/png": "[encoded data removed]",
            "text/plain": [
              "<Figure size 720x288 with 1 Axes>"
            ]
          },
          "metadata": {
            "tags": [],
            "needs_background": "light"
          }
        },
        {
          "output_type": "display_data",
          "data": {
            "image/png": "[encoded data removed]",
            "text/plain": [
              "<Figure size 720x288 with 1 Axes>"
            ]
          },
          "metadata": {
            "tags": [],
            "needs_background": "light"
          }
        }
      ]
    },
    {
      "cell_type": "markdown",
      "metadata": {
        "colab_type": "text",
        "id": "2RGMlXi1tAZj"
      },
      "source": [
        "# Part 18: Optimizer\n",
        "\n",
        "Try changing the optimizer from SGD to Adam (with learning rate 0.1 as before). Remember to import the Adam optimizer from keras.optimizers. \n",
        "\n",
        "https://keras.io/optimizers/\n"
      ]
    },
    {
      "cell_type": "markdown",
      "metadata": {
        "colab_type": "text",
        "id": "4iu-XCsRtAZl"
      },
      "source": [
        "### 2 layers, 20 nodes, class weights, Adam optimizer, no batch normalization, sigmoid activations"
      ]
    },
    {
      "cell_type": "code",
      "metadata": {
        "colab_type": "code",
        "id": "k7PAktKVtAZm",
        "outputId": "033693e6-e042-4f23-b831-95f0b6a4d079",
        "scrolled": true,
        "colab": {
          "base_uri": "https://localhost:8080/",
          "height": 714
        }
      },
      "source": [
        "# Setup some training parameters\n",
        "batch_size = 10000\n",
        "epochs = 20\n",
        "input_shape = Xtrain.shape\n",
        "\n",
        "# Build and train model\n",
        "model8 = build_DNN(input_shape=input_shape,n_layers=2,n_nodes=20,act_fun='sigmoid',optimizer='Adam',learning_rate=0.1,use_bn=False)\n",
        "\n",
        "history8 = model8.fit(Xtrain,Ytrain,epochs=epochs,validation_data=(Xval,Yval),class_weight=weights,batch_size=batch_size)"
      ],
      "execution_count": 53,
      "outputs": [
        {
          "output_type": "stream",
          "text": [
            "Train on 534896 samples, validate on 114620 samples\n",
            "Epoch 1/20\n",
            "534896/534896 [==============================] - 1s 2us/step - loss: 0.2394 - accuracy: 0.8908 - val_loss: 0.2169 - val_accuracy: 0.9145\n",
            "Epoch 2/20\n",
            "534896/534896 [==============================] - 1s 1us/step - loss: 0.1646 - accuracy: 0.9167 - val_loss: 0.2039 - val_accuracy: 0.9180\n",
            "Epoch 3/20\n",
            "534896/534896 [==============================] - 1s 1us/step - loss: 0.1597 - accuracy: 0.9192 - val_loss: 0.2041 - val_accuracy: 0.9207\n",
            "Epoch 4/20\n",
            "534896/534896 [==============================] - 1s 1us/step - loss: 0.1577 - accuracy: 0.9198 - val_loss: 0.2036 - val_accuracy: 0.9185\n",
            "Epoch 5/20\n",
            "534896/534896 [==============================] - 1s 1us/step - loss: 0.1556 - accuracy: 0.9201 - val_loss: 0.2006 - val_accuracy: 0.9193\n",
            "Epoch 6/20\n",
            "534896/534896 [==============================] - 1s 1us/step - loss: 0.1537 - accuracy: 0.9205 - val_loss: 0.1940 - val_accuracy: 0.9212\n",
            "Epoch 7/20\n",
            "534896/534896 [==============================] - 1s 1us/step - loss: 0.1511 - accuracy: 0.9214 - val_loss: 0.1999 - val_accuracy: 0.9206\n",
            "Epoch 8/20\n",
            "534896/534896 [==============================] - 1s 1us/step - loss: 0.1496 - accuracy: 0.9211 - val_loss: 0.1961 - val_accuracy: 0.9203\n",
            "Epoch 9/20\n",
            "534896/534896 [==============================] - 1s 1us/step - loss: 0.1475 - accuracy: 0.9215 - val_loss: 0.1902 - val_accuracy: 0.9222\n",
            "Epoch 10/20\n",
            "534896/534896 [==============================] - 1s 1us/step - loss: 0.1459 - accuracy: 0.9244 - val_loss: 0.1801 - val_accuracy: 0.9241\n",
            "Epoch 11/20\n",
            "534896/534896 [==============================] - 1s 1us/step - loss: 0.1424 - accuracy: 0.9265 - val_loss: 0.1815 - val_accuracy: 0.9208\n",
            "Epoch 12/20\n",
            "534896/534896 [==============================] - 1s 1us/step - loss: 0.1466 - accuracy: 0.9229 - val_loss: 0.1853 - val_accuracy: 0.9249\n",
            "Epoch 13/20\n",
            "534896/534896 [==============================] - 1s 1us/step - loss: 0.1406 - accuracy: 0.9278 - val_loss: 0.1948 - val_accuracy: 0.9296\n",
            "Epoch 14/20\n",
            "534896/534896 [==============================] - 1s 1us/step - loss: 0.1554 - accuracy: 0.9208 - val_loss: 0.1921 - val_accuracy: 0.9209\n",
            "Epoch 15/20\n",
            "534896/534896 [==============================] - 1s 1us/step - loss: 0.1504 - accuracy: 0.9212 - val_loss: 0.1935 - val_accuracy: 0.9213\n",
            "Epoch 16/20\n",
            "534896/534896 [==============================] - 1s 1us/step - loss: 0.1498 - accuracy: 0.9217 - val_loss: 0.1990 - val_accuracy: 0.9212\n",
            "Epoch 17/20\n",
            "534896/534896 [==============================] - 1s 1us/step - loss: 0.1486 - accuracy: 0.9215 - val_loss: 0.1854 - val_accuracy: 0.9216\n",
            "Epoch 18/20\n",
            "534896/534896 [==============================] - 1s 1us/step - loss: 0.1435 - accuracy: 0.9216 - val_loss: 0.1689 - val_accuracy: 0.9218\n",
            "Epoch 19/20\n",
            "534896/534896 [==============================] - 1s 1us/step - loss: 0.1389 - accuracy: 0.9283 - val_loss: 0.1710 - val_accuracy: 0.9316\n",
            "Epoch 20/20\n",
            "534896/534896 [==============================] - 1s 1us/step - loss: 0.1337 - accuracy: 0.9324 - val_loss: 0.1947 - val_accuracy: 0.9321\n"
          ],
          "name": "stdout"
        }
      ]
    },
    {
      "cell_type": "code",
      "metadata": {
        "colab_type": "code",
        "id": "tVHWwT7ftAZq",
        "outputId": "3106b962-e6de-4450-b123-11679d12d51e",
        "colab": {
          "base_uri": "https://localhost:8080/",
          "height": 68
        }
      },
      "source": [
        "# Evaluate model on test data\n",
        "score = model8.evaluate(Xtest , Ytest)\n",
        "\n",
        "print('Test loss: %.4f' % score[0])\n",
        "print('Test accuracy: %.4f' % score[1])"
      ],
      "execution_count": 54,
      "outputs": [
        {
          "output_type": "stream",
          "text": [
            "114620/114620 [==============================] - 6s 49us/step\n",
            "Test loss: 0.1905\n",
            "Test accuracy: 0.9335\n"
          ],
          "name": "stdout"
        }
      ]
    },
    {
      "cell_type": "code",
      "metadata": {
        "colab_type": "code",
        "id": "Fh1lHsjttAZt",
        "outputId": "8d318f43-d0d5-4d34-e8a7-1c2a23ef0228",
        "colab": {
          "base_uri": "https://localhost:8080/",
          "height": 541
        }
      },
      "source": [
        "plot_results(history8)"
      ],
      "execution_count": 55,
      "outputs": [
        {
          "output_type": "display_data",
          "data": {
            "image/png": "[encoded data removed]",
            "text/plain": [
              "<Figure size 720x288 with 1 Axes>"
            ]
          },
          "metadata": {
            "tags": [],
            "needs_background": "light"
          }
        },
        {
          "output_type": "display_data",
          "data": {
            "image/png": "[encoded data removed]",
            "text/plain": [
              "<Figure size 720x288 with 1 Axes>"
            ]
          },
          "metadata": {
            "tags": [],
            "needs_background": "light"
          }
        }
      ]
    },
    {
      "cell_type": "markdown",
      "metadata": {
        "colab_type": "text",
        "id": "dv9xVPUptAZv"
      },
      "source": [
        "# Part 19: Dropout regularization\n",
        "\n",
        "Dropout is a type of regularization that can improve accuracy for validation and test data. \n",
        "\n",
        "Add a Dropout layer after each Dense layer (but not after the final dense layer), with a dropout probability of 50%. Remember to first import the Dropout layer from keras.layers\n",
        "\n",
        "See https://keras.io/layers/core/ for how the Dropout layer works.\n",
        "\n",
        "---\n",
        "\n",
        "Question 19: How does the validation accuracy change when adding dropout?\n",
        "\n",
        "Question 20: How does the test accuracy change when adding dropout?"
      ]
    },
    {
      "cell_type": "markdown",
      "metadata": {
        "colab_type": "text",
        "id": "n7FH4IcDtAZx"
      },
      "source": [
        "### 2 layers, 20 nodes, class weights, dropout, SGD optimizer, no batch normalization, sigmoid activations"
      ]
    },
    {
      "cell_type": "code",
      "metadata": {
        "colab_type": "code",
        "id": "XqKsTlKOtAZy",
        "outputId": "7339c0cd-9033-404d-8be6-63054895a6a9",
        "scrolled": true,
        "colab": {
          "base_uri": "https://localhost:8080/",
          "height": 714
        }
      },
      "source": [
        "# Setup some training parameters\n",
        "batch_size = 10000\n",
        "epochs = 20\n",
        "input_shape = Xtrain.shape\n",
        "\n",
        "# Build and train model\n",
        "#model9 =  build_DNN(input_shape=input_shape,n_layers=2,n_nodes=20,act_fun='sigmoid',optimizer='Adam',use_bn=False, use_dropout = True , drate = 0.50  )\n",
        "\n",
        "model9 = build_DNN(input_shape=input_shape,n_layers=2,n_nodes=20,act_fun='sigmoid',optimizer='sgd',learning_rate=0.1,use_bn=False, use_dropout = True , dRate = 0.50)\n",
        "\n",
        "history9 = model9.fit(Xtrain,Ytrain,epochs=epochs,validation_data=(Xval,Yval),class_weight=weights,batch_size=batch_size)"
      ],
      "execution_count": 56,
      "outputs": [
        {
          "output_type": "stream",
          "text": [
            "Train on 534896 samples, validate on 114620 samples\n",
            "Epoch 1/20\n",
            "534896/534896 [==============================] - 1s 2us/step - loss: 0.7356 - accuracy: 0.5192 - val_loss: 0.6862 - val_accuracy: 0.8840\n",
            "Epoch 2/20\n",
            "534896/534896 [==============================] - 1s 1us/step - loss: 0.7082 - accuracy: 0.5185 - val_loss: 0.6744 - val_accuracy: 0.8880\n",
            "Epoch 3/20\n",
            "534896/534896 [==============================] - 1s 1us/step - loss: 0.6884 - accuracy: 0.5513 - val_loss: 0.6646 - val_accuracy: 0.8799\n",
            "Epoch 4/20\n",
            "534896/534896 [==============================] - 1s 1us/step - loss: 0.6683 - accuracy: 0.5905 - val_loss: 0.6346 - val_accuracy: 0.8793\n",
            "Epoch 5/20\n",
            "534896/534896 [==============================] - 1s 1us/step - loss: 0.6368 - accuracy: 0.6468 - val_loss: 0.5895 - val_accuracy: 0.8792\n",
            "Epoch 6/20\n",
            "534896/534896 [==============================] - 1s 1us/step - loss: 0.5854 - accuracy: 0.7032 - val_loss: 0.5138 - val_accuracy: 0.8778\n",
            "Epoch 7/20\n",
            "534896/534896 [==============================] - 1s 1us/step - loss: 0.5137 - accuracy: 0.7573 - val_loss: 0.4206 - val_accuracy: 0.8778\n",
            "Epoch 8/20\n",
            "534896/534896 [==============================] - 1s 1us/step - loss: 0.4442 - accuracy: 0.7951 - val_loss: 0.3450 - val_accuracy: 0.8778\n",
            "Epoch 9/20\n",
            "534896/534896 [==============================] - 1s 1us/step - loss: 0.3904 - accuracy: 0.8219 - val_loss: 0.3068 - val_accuracy: 0.8779\n",
            "Epoch 10/20\n",
            "534896/534896 [==============================] - 1s 1us/step - loss: 0.3542 - accuracy: 0.8371 - val_loss: 0.2865 - val_accuracy: 0.8782\n",
            "Epoch 11/20\n",
            "534896/534896 [==============================] - 1s 1us/step - loss: 0.3322 - accuracy: 0.8468 - val_loss: 0.2760 - val_accuracy: 0.8785\n",
            "Epoch 12/20\n",
            "534896/534896 [==============================] - 1s 1us/step - loss: 0.3149 - accuracy: 0.8538 - val_loss: 0.2725 - val_accuracy: 0.8786\n",
            "Epoch 13/20\n",
            "534896/534896 [==============================] - 1s 1us/step - loss: 0.3035 - accuracy: 0.8582 - val_loss: 0.2709 - val_accuracy: 0.8786\n",
            "Epoch 14/20\n",
            "534896/534896 [==============================] - 1s 1us/step - loss: 0.2945 - accuracy: 0.8615 - val_loss: 0.2705 - val_accuracy: 0.8787\n",
            "Epoch 15/20\n",
            "534896/534896 [==============================] - 1s 1us/step - loss: 0.2869 - accuracy: 0.8642 - val_loss: 0.2698 - val_accuracy: 0.8787\n",
            "Epoch 16/20\n",
            "534896/534896 [==============================] - 1s 1us/step - loss: 0.2810 - accuracy: 0.8663 - val_loss: 0.2702 - val_accuracy: 0.8787\n",
            "Epoch 17/20\n",
            "534896/534896 [==============================] - 1s 1us/step - loss: 0.2764 - accuracy: 0.8675 - val_loss: 0.2692 - val_accuracy: 0.8787\n",
            "Epoch 18/20\n",
            "534896/534896 [==============================] - 1s 1us/step - loss: 0.2720 - accuracy: 0.8685 - val_loss: 0.2690 - val_accuracy: 0.8787\n",
            "Epoch 19/20\n",
            "534896/534896 [==============================] - 1s 1us/step - loss: 0.2682 - accuracy: 0.8695 - val_loss: 0.2694 - val_accuracy: 0.8787\n",
            "Epoch 20/20\n",
            "534896/534896 [==============================] - 1s 1us/step - loss: 0.2649 - accuracy: 0.8706 - val_loss: 0.2698 - val_accuracy: 0.8787\n"
          ],
          "name": "stdout"
        }
      ]
    },
    {
      "cell_type": "code",
      "metadata": {
        "colab_type": "code",
        "id": "E82MDWzAtAZ4",
        "outputId": "7eaa5f05-f5fc-4bd5-af70-454fdcc3aa52",
        "colab": {
          "base_uri": "https://localhost:8080/",
          "height": 68
        }
      },
      "source": [
        "# Evaluate model on test data\n",
        "score = model9.evaluate(Xtest , Ytest)\n",
        "\n",
        "print('Test loss: %.4f' % score[0])\n",
        "print('Test accuracy: %.4f' % score[1])"
      ],
      "execution_count": 57,
      "outputs": [
        {
          "output_type": "stream",
          "text": [
            "114620/114620 [==============================] - 7s 61us/step\n",
            "Test loss: 0.2639\n",
            "Test accuracy: 0.8813\n"
          ],
          "name": "stdout"
        }
      ]
    },
    {
      "cell_type": "code",
      "metadata": {
        "colab_type": "code",
        "id": "FMea7yVetAZ8",
        "outputId": "f9a183ba-78f0-4db6-e3e1-701010069817",
        "colab": {
          "base_uri": "https://localhost:8080/",
          "height": 542
        }
      },
      "source": [
        "plot_results(history9)"
      ],
      "execution_count": 58,
      "outputs": [
        {
          "output_type": "display_data",
          "data": {
            "image/png": "[encoded data removed]",
            "text/plain": [
              "<Figure size 720x288 with 1 Axes>"
            ]
          },
          "metadata": {
            "tags": [],
            "needs_background": "light"
          }
        },
        {
          "output_type": "display_data",
          "data": {
            "image/png": "[encoded data removed]",
            "text/plain": [
              "<Figure size 720x288 with 1 Axes>"
            ]
          },
          "metadata": {
            "tags": [],
            "needs_background": "light"
          }
        }
      ]
    },
    {
      "cell_type": "markdown",
      "metadata": {
        "colab_type": "text",
        "id": "9dIsYMY0tAaD"
      },
      "source": [
        "# Part 20: Improving performance\n",
        "\n",
        "Spend some time (30 - 90 minutes) playing with the network architecture (number of layers, number of nodes per layer, activation function) and other hyper parameters (optimizer, learning rate, batch size, number of epochs, degree of regularization). For example, try a much deeper network. How much does the training time increase for a network with 10 layers?\n",
        "\n",
        "Question 21: How high classification accuracy can you achieve for the test data? What is your best configuration?"
      ]
    },
    {
      "cell_type": "code",
      "metadata": {
        "colab_type": "code",
        "id": "jwxN7dLPtAaE",
        "outputId": "ae52ecf1-9b5c-4f58-b3bd-870c0eefc0fa",
        "scrolled": true,
        "colab": {
          "base_uri": "https://localhost:8080/",
          "height": 374
        }
      },
      "source": [
        "# Find your best configuration for the DNN\n",
        "batch_size = 10000\n",
        "epochs = 10\n",
        "input_shape = Xtrain.shape\n",
        "\n",
        "# Build and train model\n",
        "model10 = build_DNN(input_shape=input_shape,n_layers=2,n_nodes=20,act_fun='sigmoid',optimizer='sgd',learning_rate=0.1,use_bn=True)\n",
        "\n",
        "history10 = model10.fit(Xtrain,Ytrain,epochs=epochs,validation_data=(Xval,Yval),class_weight=weights,batch_size=batch_size)"
      ],
      "execution_count": 59,
      "outputs": [
        {
          "output_type": "stream",
          "text": [
            "Train on 534896 samples, validate on 114620 samples\n",
            "Epoch 1/10\n",
            "534896/534896 [==============================] - 1s 2us/step - loss: 0.6918 - accuracy: 0.6418 - val_loss: 0.6839 - val_accuracy: 0.8624\n",
            "Epoch 2/10\n",
            "534896/534896 [==============================] - 1s 1us/step - loss: 0.6801 - accuracy: 0.8707 - val_loss: 0.6742 - val_accuracy: 0.8760\n",
            "Epoch 3/10\n",
            "534896/534896 [==============================] - 1s 1us/step - loss: 0.6404 - accuracy: 0.8795 - val_loss: 0.6110 - val_accuracy: 0.8786\n",
            "Epoch 4/10\n",
            "534896/534896 [==============================] - 1s 1us/step - loss: 0.5389 - accuracy: 0.8793 - val_loss: 0.4817 - val_accuracy: 0.8781\n",
            "Epoch 5/10\n",
            "534896/534896 [==============================] - 1s 1us/step - loss: 0.3952 - accuracy: 0.8792 - val_loss: 0.3583 - val_accuracy: 0.8783\n",
            "Epoch 6/10\n",
            "534896/534896 [==============================] - 1s 1us/step - loss: 0.2964 - accuracy: 0.8795 - val_loss: 0.3079 - val_accuracy: 0.8786\n",
            "Epoch 7/10\n",
            "534896/534896 [==============================] - 1s 1us/step - loss: 0.2532 - accuracy: 0.8798 - val_loss: 0.2857 - val_accuracy: 0.8789\n",
            "Epoch 8/10\n",
            "534896/534896 [==============================] - 1s 1us/step - loss: 0.2347 - accuracy: 0.8800 - val_loss: 0.2785 - val_accuracy: 0.8789\n",
            "Epoch 9/10\n",
            "534896/534896 [==============================] - 1s 1us/step - loss: 0.2253 - accuracy: 0.8800 - val_loss: 0.2715 - val_accuracy: 0.8789\n",
            "Epoch 10/10\n",
            "534896/534896 [==============================] - 1s 1us/step - loss: 0.2196 - accuracy: 0.8801 - val_loss: 0.2688 - val_accuracy: 0.8791\n"
          ],
          "name": "stdout"
        }
      ]
    },
    {
      "cell_type": "code",
      "metadata": {
        "colab_type": "code",
        "id": "CAzY1QvltAaN",
        "outputId": "af9923fa-9310-4ac2-f6ef-a1440b8491d9",
        "colab": {
          "base_uri": "https://localhost:8080/",
          "height": 592
        }
      },
      "source": [
        "# Evaluate DNN on test data\n",
        "score = model10.evaluate(Xtest , Ytest)\n",
        "\n",
        "print('Test loss: %.4f' % score[0])\n",
        "print('Test accuracy: %.4f' % score[1])\n",
        "\n",
        "plot_results(history10)"
      ],
      "execution_count": 60,
      "outputs": [
        {
          "output_type": "stream",
          "text": [
            "114620/114620 [==============================] - 6s 50us/step\n",
            "Test loss: 0.2628\n",
            "Test accuracy: 0.8815\n"
          ],
          "name": "stdout"
        },
        {
          "output_type": "display_data",
          "data": {
            "image/png": "[encoded data removed]",
            "text/plain": [
              "<Figure size 720x288 with 1 Axes>"
            ]
          },
          "metadata": {
            "tags": [],
            "needs_background": "light"
          }
        },
        {
          "output_type": "display_data",
          "data": {
            "image/png": "[encoded data removed]",
            "text/plain": [
              "<Figure size 720x288 with 1 Axes>"
            ]
          },
          "metadata": {
            "tags": [],
            "needs_background": "light"
          }
        }
      ]
    },
    {
      "cell_type": "markdown",
      "metadata": {
        "colab_type": "text",
        "id": "aiPpL7mDtAaT"
      },
      "source": [
        "# Part 21: Dropout uncertainty\n",
        "\n",
        "Dropout can also be used during testing, to obtain an estimate of the model uncertainty. Since dropout will randomly remove connections, the network will produce different results every time the same (test) data is put into the network. This technique is called Monte Carlo dropout. For more information, see this paper http://proceedings.mlr.press/v48/gal16.pdf\n",
        "\n",
        "To achieve this, we need to redefine the Keras Dropout call by running the cell below, and use 'myDropout' in each call to Dropout, in the cell that defines the DNN.\n",
        "\n",
        "Run the same test data through the trained network 100 times, with dropout turned on. \n",
        "\n",
        "Question 22: What is the mean and the standard deviation of the test accuracy?"
      ]
    },
    {
      "cell_type": "code",
      "metadata": {
        "colab_type": "code",
        "id": "CM3z9RCvtAaT",
        "colab": {}
      },
      "source": [
        "import keras\n",
        "\n",
        "class myDropout(keras.layers.Dropout):\n",
        "    \"\"\"Applies Dropout to the input.\n",
        "    Dropout consists in randomly setting\n",
        "    a fraction `rate` of input units to 0 at each update during training time,\n",
        "    which helps prevent overfitting.\n",
        "    # Arguments\n",
        "        rate: float between 0 and 1. Fraction of the input units to drop.\n",
        "        noise_shape: 1D integer tensor representing the shape of the\n",
        "            binary dropout mask that will be multiplied with the input.\n",
        "            For instance, if your inputs have shape\n",
        "            `(batch_size, timesteps, features)` and\n",
        "            you want the dropout mask to be the same for all timesteps,\n",
        "            you can use `noise_shape=(batch_size, 1, features)`.\n",
        "        seed: A Python integer to use as random seed.\n",
        "    # References\n",
        "        - [Dropout: A Simple Way to Prevent Neural Networks from Overfitting](\n",
        "           http://www.jmlr.org/papers/volume15/srivastava14a/srivastava14a.pdf)\n",
        "    \"\"\"\n",
        "    def __init__(self, rate, training=True, noise_shape=None, seed=None, **kwargs):\n",
        "        super(myDropout, self).__init__(rate, noise_shape=None, seed=None,**kwargs)\n",
        "        self.training = training\n",
        "\n",
        "        \n",
        "    def call(self, inputs, training=None):\n",
        "        if 0. < self.rate < 1.:\n",
        "            noise_shape = self._get_noise_shape(inputs)\n",
        "\n",
        "            def dropped_inputs():\n",
        "                return K.dropout(inputs, self.rate, noise_shape,\n",
        "                                 seed=self.seed)\n",
        "            if not training: \n",
        "                return K.in_train_phase(dropped_inputs, inputs, training=self.training)\n",
        "            return K.in_train_phase(dropped_inputs, inputs, training=training)\n",
        "        return inputs\n",
        "\n",
        "\n",
        "        "
      ],
      "execution_count": 0,
      "outputs": []
    },
    {
      "cell_type": "markdown",
      "metadata": {
        "colab_type": "text",
        "id": "4hIxhRMMtAaX"
      },
      "source": [
        "### Your best config, custom dropout"
      ]
    },
    {
      "cell_type": "code",
      "metadata": {
        "colab_type": "code",
        "id": "oN9gu7mTtAaY",
        "outputId": "2210d5a3-ad42-4996-ad20-c51bb758e78a",
        "scrolled": true,
        "colab": {
          "base_uri": "https://localhost:8080/",
          "height": 374
        }
      },
      "source": [
        "# Your best training parameters\n",
        "batch_size = 10000\n",
        "epochs = 10\n",
        "input_shape = Xtrain.shape\n",
        "\n",
        "# Build and train model\n",
        "model11 = build_DNN(input_shape=input_shape,n_layers=2,n_nodes=20,act_fun='sigmoid',optimizer='sgd',learning_rate=0.1,use_bn=True, use_custom_dropout = True , dRate = 0.5)\n",
        "\n",
        "history11 = model11.fit(Xtrain,Ytrain,epochs=epochs,validation_data=(Xval,Yval),class_weight=weights,batch_size=batch_size)"
      ],
      "execution_count": 62,
      "outputs": [
        {
          "output_type": "stream",
          "text": [
            "Train on 534896 samples, validate on 114620 samples\n",
            "Epoch 1/10\n",
            "534896/534896 [==============================] - 1s 2us/step - loss: 0.7496 - accuracy: 0.5022 - val_loss: 0.7324 - val_accuracy: 0.5020\n",
            "Epoch 2/10\n",
            "534896/534896 [==============================] - 1s 1us/step - loss: 0.7165 - accuracy: 0.5110 - val_loss: 0.7050 - val_accuracy: 0.5202\n",
            "Epoch 3/10\n",
            "534896/534896 [==============================] - 1s 1us/step - loss: 0.6947 - accuracy: 0.5368 - val_loss: 0.6834 - val_accuracy: 0.5589\n",
            "Epoch 4/10\n",
            "534896/534896 [==============================] - 1s 1us/step - loss: 0.6732 - accuracy: 0.5785 - val_loss: 0.6609 - val_accuracy: 0.6052\n",
            "Epoch 5/10\n",
            "534896/534896 [==============================] - 1s 1us/step - loss: 0.6417 - accuracy: 0.6384 - val_loss: 0.6214 - val_accuracy: 0.6687\n",
            "Epoch 6/10\n",
            "534896/534896 [==============================] - 1s 1us/step - loss: 0.5852 - accuracy: 0.7068 - val_loss: 0.5520 - val_accuracy: 0.7414\n",
            "Epoch 7/10\n",
            "534896/534896 [==============================] - 1s 1us/step - loss: 0.5060 - accuracy: 0.7695 - val_loss: 0.4766 - val_accuracy: 0.7949\n",
            "Epoch 8/10\n",
            "534896/534896 [==============================] - 1s 1us/step - loss: 0.4321 - accuracy: 0.8104 - val_loss: 0.4223 - val_accuracy: 0.8264\n",
            "Epoch 9/10\n",
            "534896/534896 [==============================] - 1s 1us/step - loss: 0.3822 - accuracy: 0.8348 - val_loss: 0.3920 - val_accuracy: 0.8423\n",
            "Epoch 10/10\n",
            "534896/534896 [==============================] - 1s 1us/step - loss: 0.3502 - accuracy: 0.8473 - val_loss: 0.3726 - val_accuracy: 0.8512\n"
          ],
          "name": "stdout"
        }
      ]
    },
    {
      "cell_type": "code",
      "metadata": {
        "colab_type": "code",
        "id": "KAyY29zItAac",
        "outputId": "5afb489a-7e38-4288-fdeb-5af7db3c5a17",
        "colab": {
          "base_uri": "https://localhost:8080/",
          "height": 592
        }
      },
      "source": [
        "# Run this cell a few times to evalute the model on test data, \n",
        "# if you get slightly different test accuracy every time, Dropout during testing is working\n",
        "\n",
        "# Evaluate model on test data\n",
        "\n",
        "score = model11.evaluate(Xtest , Ytest)\n",
        "\n",
        "print('Test loss: %.4f' % score[0])\n",
        "print('Test accuracy: %.4f' % score[1])\n",
        "\n",
        "plot_results(history11)"
      ],
      "execution_count": 63,
      "outputs": [
        {
          "output_type": "stream",
          "text": [
            "114620/114620 [==============================] - 6s 52us/step\n",
            "Test loss: 0.3684\n",
            "Test accuracy: 0.8534\n"
          ],
          "name": "stdout"
        },
        {
          "output_type": "display_data",
          "data": {
            "image/png": "[encoded data removed]",
            "text/plain": [
              "<Figure size 720x288 with 1 Axes>"
            ]
          },
          "metadata": {
            "tags": [],
            "needs_background": "light"
          }
        },
        {
          "output_type": "display_data",
          "data": {
            "image/png": "[encoded data removed]",
            "text/plain": [
              "<Figure size 720x288 with 1 Axes>"
            ]
          },
          "metadata": {
            "tags": [],
            "needs_background": "light"
          }
        }
      ]
    },
    {
      "cell_type": "code",
      "metadata": {
        "colab_type": "code",
        "id": "ZYPTCS9ttAaf",
        "colab": {}
      },
      "source": [
        "# Run the testing 100 times, and save the accuracies in an array\n",
        "\n",
        "    \n",
        "# Calculate and print mean and std of accuracies\n",
        "\n"
      ],
      "execution_count": 0,
      "outputs": []
    },
    {
      "cell_type": "markdown",
      "metadata": {
        "colab_type": "text",
        "id": "ietNFSzPtAak"
      },
      "source": [
        "# Part 22: Cross validation uncertainty\n",
        "\n",
        "Cross validation (CV) is often used to evaluate a model, by training and testing using different subsets of the data it is possible to get the uncertainty as the standard deviation over folds. We here use a help function from scikit-learn to setup the CV, see https://scikit-learn.org/stable/modules/generated/sklearn.model_selection.StratifiedKFold.html . Use 10 folds with shuffling, random state 1234. \n",
        "\n",
        "Note: We here assume that you have found the best hyper parameters, so here the data are only split into training and testing, no validation.\n",
        "\n",
        "---\n",
        "\n",
        "Question 23: What is the mean and the standard deviation of the test accuracy?\n",
        "\n",
        "Question 24: What is the main advantage of dropout compared to CV for estimating test uncertainty?"
      ]
    },
    {
      "cell_type": "code",
      "metadata": {
        "colab_type": "code",
        "id": "NkbOdES5tAak",
        "colab": {
          "base_uri": "https://localhost:8080/",
          "height": 187
        },
        "outputId": "202d7fe9-8a2f-4aa9-c333-9a112834b536"
      },
      "source": [
        "from sklearn.model_selection import StratifiedKFold\n",
        "\n",
        "# Define 10-fold cross validation\n",
        "\n",
        "# Loop over cross validation folds\n",
        "    \n",
        "    # Calculate class weights for current split\n",
        "    \n",
        "    # Rebuild the DNN model, to not continue training on the previously trained model\n",
        "    \n",
        "    # Fit the model with training set and class weights for this fold\n",
        "    \n",
        "    # Evaluate the model using the test set for this fold\n",
        "    \n",
        "    # Save the test accuracy in an array\n",
        "\n",
        "# Calculate and print mean and std of accuracies\n",
        "\n",
        "skf = StratifiedKFold(n_splits = 10 , shuffle = False, random_state = 1234)\n",
        "\n",
        "\n",
        "\n",
        "accAr = []\n",
        "i = 1\n",
        "for train_idx , test_idx in skf.split(X,Y):\n",
        "  print(\"Number of fold is \"+str(i))\n",
        "  train_X = X[train_idx , : ]\n",
        "  train_Y = Y[train_idx]\n",
        "\n",
        "  test_X = X[test_idx, : ]\n",
        "  test_Y = Y[test_idx]\n",
        "  classes = np.unique(train_Y)\n",
        "  weights = {classes[i]:class_weight.compute_class_weight('balanced',classes,train_Y)[i] for i in range(0,len(classes))}\n",
        "\n",
        "  ipShape = train_X.shape\n",
        "\n",
        "  epochs = 10\n",
        "  \n",
        "  modelCV = build_DNN(input_shape=ipShape,n_layers=2,n_nodes=20,act_fun='sigmoid',optimizer='sgd',learning_rate=0.1,use_bn=True)\n",
        "\n",
        "  historyCV = modelCV.fit(train_X,train_Y,epochs=epochs,class_weight=weights, verbose = 0 , batch_size = 10000) \n",
        "\n",
        "  score = modelCV.evaluate(Xtest,Ytest, verbose = 0)\n",
        "\n",
        "  accAr.append(score[1])\n",
        "  i = i + 1\n",
        "\n",
        "\n"
      ],
      "execution_count": 65,
      "outputs": [
        {
          "output_type": "stream",
          "text": [
            "Number of fold is 1\n",
            "Number of fold is 2\n",
            "Number of fold is 3\n",
            "Number of fold is 4\n",
            "Number of fold is 5\n",
            "Number of fold is 6\n",
            "Number of fold is 7\n",
            "Number of fold is 8\n",
            "Number of fold is 9\n",
            "Number of fold is 10\n"
          ],
          "name": "stdout"
        }
      ]
    },
    {
      "cell_type": "code",
      "metadata": {
        "colab_type": "code",
        "id": "dZ5Zp_udfITz",
        "colab": {}
      },
      "source": [
        "import statistics as stat\n",
        "meanVal = stat.mean(accAr)\n",
        "std = stat.variance(accAr)\n"
      ],
      "execution_count": 0,
      "outputs": []
    },
    {
      "cell_type": "code",
      "metadata": {
        "id": "7BccI_uUkLVs",
        "colab_type": "code",
        "colab": {
          "base_uri": "https://localhost:8080/",
          "height": 85
        },
        "outputId": "346c173d-06e0-4cb7-d451-9db92df80272"
      },
      "source": [
        "print(f\"mean is {meanVal}\")\n",
        "print(\"\\n\")\n",
        "print(f\"variance is {std}\")"
      ],
      "execution_count": 74,
      "outputs": [
        {
          "output_type": "stream",
          "text": [
            "mean is 0.8915660321712494\n",
            "\n",
            "\n",
            "variance is 7.626285847924426e-06\n"
          ],
          "name": "stdout"
        }
      ]
    },
    {
      "cell_type": "markdown",
      "metadata": {
        "colab_type": "text",
        "id": "tHGu0V8jtAan"
      },
      "source": [
        "# Part 23: DNN regression\n",
        "\n",
        "A similar DNN can be used for regression, instead of classification.\n",
        "\n",
        "Question 25: How would you change the DNN in order to use it for regression instead?\n",
        "\n",
        "Since we are interested in regression, we need to change activation functioin of output layer to linear activation function as current activation function will change it into 0 and 1 while with that, any value outside that range would not be achieved and it is also required to change the loss function to MSE."
      ]
    },
    {
      "cell_type": "markdown",
      "metadata": {
        "colab_type": "text",
        "id": "MSpnNCjEtAap"
      },
      "source": [
        "## Report\n",
        "\n",
        "Send in this jupyter notebook, with answers to all questions."
      ]
    }
  ]
}